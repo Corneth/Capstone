{
 "cells": [
  {
   "cell_type": "code",
   "execution_count": 1,
   "id": "natural-premises",
   "metadata": {},
   "outputs": [],
   "source": [
    "import pandas as pd\n",
    "# ^^^ pyforest auto-imports - don't write above this line\n",
    "import requests\n",
    "import json\n",
    "import pandas\n",
    "from pandas_profiling import ProfileReport as pr\n",
    "from sklearn.metrics import plot_roc_curve,confusion_matrix, accuracy_score,classification_report,plot_confusion_matrix\n",
    "from sklearn.model_selection import train_test_split,GridSearchCV,KFold,cross_val_score\n",
    "from sklearn.model_selection import RandomizedSearchCV\n",
    "import warnings"
   ]
  },
  {
   "cell_type": "code",
   "execution_count": 2,
   "id": "starting-amber",
   "metadata": {},
   "outputs": [],
   "source": [
    "warnings.filterwarnings('ignore')"
   ]
  },
  {
   "cell_type": "markdown",
   "id": "delayed-raleigh",
   "metadata": {},
   "source": [
    "# Explanation:\n",
    "What it is that I am going to do is to use machine learning to make recommendations on foods they might enjoy considering what they previously bought. I am going to use the Instacart dataset with the addition to the FoodData Central API to get the nutritional values of each of the products in a persons cart and use edamam as a source to get recipes that the user can use with said products in their cart to try to drive users to purchase more."
   ]
  },
  {
   "cell_type": "markdown",
   "id": "embedded-hydrogen",
   "metadata": {},
   "source": [
    "Online Grocery Recommendation using Collaborative Filtering"
   ]
  },
  {
   "cell_type": "markdown",
   "id": "emotional-event",
   "metadata": {},
   "source": [
    "## functions:"
   ]
  },
  {
   "cell_type": "code",
   "execution_count": 3,
   "id": "biblical-venezuela",
   "metadata": {},
   "outputs": [],
   "source": [
    "\n",
    "\n",
    "def get_data():\n",
    "    aisles = pd.read_csv('Data/aisles.csv')\n",
    "    departments = pd.read_csv('Data/departments.csv')\n",
    "    order_products_prior = pd.read_csv('Data/order_products__prior.csv')\n",
    "    order_products_train = pd.read_csv('Data/order_products__train.csv')\n",
    "    orders = pd.read_csv('Data/orders.csv')\n",
    "    products = pd.read_csv('Data/products.csv')\n",
    "    return aisles,departments,order_products_prior,order_products_train,orders,products\n",
    "\n",
    "def merge(aisles,departments,products,order_products_prior,order_train,orders):\n",
    "    orders_full = pd.concat([orders_prior,order_train],axis = 0)\n",
    "    df1 = pd.merge(products,departments, on = 'department_id')\n",
    "    df2 = pd.merge(df1,aisles, on = 'aisle_id')\n",
    "    df3 = pd.merge(orders_full,orders,on = 'order_id')\n",
    "    final = pd.merge(df2,df3,on = 'product_id' )\n",
    "    final['days_since_prior_order'].fillna(0,inplace = True)\n",
    "    return final.sample(150000,random_state = 123)\n",
    "\n",
    "def Clean(dataframe):\n",
    "    food_items = dataframe.loc[dataframe['department'] !='pets']\n",
    "    food_items = food_items.loc[food_items['department'] !='household']\n",
    "    food_items = food_items.loc[food_items['department'] != 'personal care']\n",
    "    food_items = food_items.loc[food_items['department'] != 'babies']\n",
    "    food_items = food_items.loc[food_items['department'] !='missing']\n",
    "    food_items.drop(['product_id','eval_set','department','aisle','department_id','aisle_id'],axis = 1,inplace = True)\n",
    "    \n",
    "    \n",
    "    return food_items\n"
   ]
  },
  {
   "cell_type": "markdown",
   "id": "reverse-explanation",
   "metadata": {},
   "source": [
    "# Obtain\n",
    "I obtained my primary resources from the instacart kaggle dataset at https://www.kaggle.com/c/instacart-market-basket-analysis/data which comprises of over 3.2 million data points from anonymized users and their previous orders, but I will be adding onto it from two different API's. One is from the FDC website for information of the food as it allows up to 1,000 requests a hour, and the other is from Edamam for nutritional analysis since it only allows 100 requests a minute. I originally thought that a sample of 10k would be a good start for the data but I feel like that might be too little of a sample for us to be using. So I will be getting both a 10k and a 50k sample and run them both through the gauntlet. They will be labeled as grocery10k and grocery50k respectfully."
   ]
  },
  {
   "cell_type": "code",
   "execution_count": 4,
   "id": "mineral-compiler",
   "metadata": {},
   "outputs": [
    {
     "data": {
      "application/javascript": [
       "\n",
       "        if (window._pyforest_update_imports_cell) { window._pyforest_update_imports_cell('import pandas as pd'); }\n",
       "    "
      ],
      "text/plain": [
       "<IPython.core.display.Javascript object>"
      ]
     },
     "metadata": {},
     "output_type": "display_data"
    },
    {
     "data": {
      "application/javascript": [
       "\n",
       "        if (window._pyforest_update_imports_cell) { window._pyforest_update_imports_cell('import pandas as pd'); }\n",
       "    "
      ],
      "text/plain": [
       "<IPython.core.display.Javascript object>"
      ]
     },
     "metadata": {},
     "output_type": "display_data"
    },
    {
     "data": {
      "application/javascript": [
       "\n",
       "        if (window._pyforest_update_imports_cell) { window._pyforest_update_imports_cell('import pandas as pd'); }\n",
       "    "
      ],
      "text/plain": [
       "<IPython.core.display.Javascript object>"
      ]
     },
     "metadata": {},
     "output_type": "display_data"
    },
    {
     "data": {
      "application/javascript": [
       "\n",
       "        if (window._pyforest_update_imports_cell) { window._pyforest_update_imports_cell('import pandas as pd'); }\n",
       "    "
      ],
      "text/plain": [
       "<IPython.core.display.Javascript object>"
      ]
     },
     "metadata": {},
     "output_type": "display_data"
    },
    {
     "data": {
      "application/javascript": [
       "\n",
       "        if (window._pyforest_update_imports_cell) { window._pyforest_update_imports_cell('import pandas as pd'); }\n",
       "    "
      ],
      "text/plain": [
       "<IPython.core.display.Javascript object>"
      ]
     },
     "metadata": {},
     "output_type": "display_data"
    },
    {
     "data": {
      "application/javascript": [
       "\n",
       "        if (window._pyforest_update_imports_cell) { window._pyforest_update_imports_cell('import pandas as pd'); }\n",
       "    "
      ],
      "text/plain": [
       "<IPython.core.display.Javascript object>"
      ]
     },
     "metadata": {},
     "output_type": "display_data"
    }
   ],
   "source": [
    "aisles,departments,orders_prior,order_train,orders,products = get_data()\n"
   ]
  },
  {
   "cell_type": "code",
   "execution_count": 5,
   "id": "canadian-geography",
   "metadata": {},
   "outputs": [
    {
     "data": {
      "application/javascript": [
       "\n",
       "        if (window._pyforest_update_imports_cell) { window._pyforest_update_imports_cell('import pandas as pd'); }\n",
       "    "
      ],
      "text/plain": [
       "<IPython.core.display.Javascript object>"
      ]
     },
     "metadata": {},
     "output_type": "display_data"
    },
    {
     "data": {
      "application/javascript": [
       "\n",
       "        if (window._pyforest_update_imports_cell) { window._pyforest_update_imports_cell('import pandas as pd'); }\n",
       "    "
      ],
      "text/plain": [
       "<IPython.core.display.Javascript object>"
      ]
     },
     "metadata": {},
     "output_type": "display_data"
    },
    {
     "data": {
      "application/javascript": [
       "\n",
       "        if (window._pyforest_update_imports_cell) { window._pyforest_update_imports_cell('import pandas as pd'); }\n",
       "    "
      ],
      "text/plain": [
       "<IPython.core.display.Javascript object>"
      ]
     },
     "metadata": {},
     "output_type": "display_data"
    },
    {
     "data": {
      "application/javascript": [
       "\n",
       "        if (window._pyforest_update_imports_cell) { window._pyforest_update_imports_cell('import pandas as pd'); }\n",
       "    "
      ],
      "text/plain": [
       "<IPython.core.display.Javascript object>"
      ]
     },
     "metadata": {},
     "output_type": "display_data"
    },
    {
     "data": {
      "application/javascript": [
       "\n",
       "        if (window._pyforest_update_imports_cell) { window._pyforest_update_imports_cell('import pandas as pd'); }\n",
       "    "
      ],
      "text/plain": [
       "<IPython.core.display.Javascript object>"
      ]
     },
     "metadata": {},
     "output_type": "display_data"
    }
   ],
   "source": [
    "grocery = merge(aisles,departments,products,orders_prior,order_train,orders)"
   ]
  },
  {
   "cell_type": "markdown",
   "id": "distinguished-legislation",
   "metadata": {},
   "source": [
    "# Scrub\n",
    "Taking a look at the data in the explore category there is a lot of columns that aren't necessary in terms of this project. "
   ]
  },
  {
   "cell_type": "code",
   "execution_count": 6,
   "id": "arranged-native",
   "metadata": {},
   "outputs": [
    {
     "data": {
      "text/html": [
       "<div>\n",
       "<style scoped>\n",
       "    .dataframe tbody tr th:only-of-type {\n",
       "        vertical-align: middle;\n",
       "    }\n",
       "\n",
       "    .dataframe tbody tr th {\n",
       "        vertical-align: top;\n",
       "    }\n",
       "\n",
       "    .dataframe thead th {\n",
       "        text-align: right;\n",
       "    }\n",
       "</style>\n",
       "<table border=\"1\" class=\"dataframe\">\n",
       "  <thead>\n",
       "    <tr style=\"text-align: right;\">\n",
       "      <th></th>\n",
       "      <th>product_id</th>\n",
       "      <th>product_name</th>\n",
       "      <th>aisle_id</th>\n",
       "      <th>department_id</th>\n",
       "      <th>department</th>\n",
       "      <th>aisle</th>\n",
       "      <th>order_id</th>\n",
       "      <th>add_to_cart_order</th>\n",
       "      <th>reordered</th>\n",
       "      <th>user_id</th>\n",
       "      <th>eval_set</th>\n",
       "      <th>order_number</th>\n",
       "      <th>order_dow</th>\n",
       "      <th>order_hour_of_day</th>\n",
       "      <th>days_since_prior_order</th>\n",
       "    </tr>\n",
       "  </thead>\n",
       "  <tbody>\n",
       "    <tr>\n",
       "      <th>30387828</th>\n",
       "      <td>31717</td>\n",
       "      <td>Organic Cilantro</td>\n",
       "      <td>16</td>\n",
       "      <td>4</td>\n",
       "      <td>produce</td>\n",
       "      <td>fresh herbs</td>\n",
       "      <td>121586</td>\n",
       "      <td>5</td>\n",
       "      <td>1</td>\n",
       "      <td>193584</td>\n",
       "      <td>prior</td>\n",
       "      <td>15</td>\n",
       "      <td>4</td>\n",
       "      <td>15</td>\n",
       "      <td>5.0</td>\n",
       "    </tr>\n",
       "    <tr>\n",
       "      <th>21740327</th>\n",
       "      <td>21903</td>\n",
       "      <td>Organic Baby Spinach</td>\n",
       "      <td>123</td>\n",
       "      <td>4</td>\n",
       "      <td>produce</td>\n",
       "      <td>packaged vegetables fruits</td>\n",
       "      <td>3114643</td>\n",
       "      <td>1</td>\n",
       "      <td>1</td>\n",
       "      <td>24493</td>\n",
       "      <td>prior</td>\n",
       "      <td>3</td>\n",
       "      <td>1</td>\n",
       "      <td>17</td>\n",
       "      <td>1.0</td>\n",
       "    </tr>\n",
       "    <tr>\n",
       "      <th>23437428</th>\n",
       "      <td>10246</td>\n",
       "      <td>Organic Celery Hearts</td>\n",
       "      <td>83</td>\n",
       "      <td>4</td>\n",
       "      <td>produce</td>\n",
       "      <td>fresh vegetables</td>\n",
       "      <td>3358567</td>\n",
       "      <td>10</td>\n",
       "      <td>1</td>\n",
       "      <td>162930</td>\n",
       "      <td>prior</td>\n",
       "      <td>42</td>\n",
       "      <td>2</td>\n",
       "      <td>13</td>\n",
       "      <td>3.0</td>\n",
       "    </tr>\n",
       "    <tr>\n",
       "      <th>13867586</th>\n",
       "      <td>26683</td>\n",
       "      <td>Cafe Latte Pure Lightly Sweetened Iced Coffee ...</td>\n",
       "      <td>91</td>\n",
       "      <td>16</td>\n",
       "      <td>dairy eggs</td>\n",
       "      <td>soy lactosefree</td>\n",
       "      <td>1331837</td>\n",
       "      <td>1</td>\n",
       "      <td>1</td>\n",
       "      <td>93805</td>\n",
       "      <td>prior</td>\n",
       "      <td>9</td>\n",
       "      <td>4</td>\n",
       "      <td>9</td>\n",
       "      <td>12.0</td>\n",
       "    </tr>\n",
       "    <tr>\n",
       "      <th>18841574</th>\n",
       "      <td>39719</td>\n",
       "      <td>Freshly Made. Filled with Creamy Ricotta, Aged...</td>\n",
       "      <td>12</td>\n",
       "      <td>9</td>\n",
       "      <td>dry goods pasta</td>\n",
       "      <td>fresh pasta</td>\n",
       "      <td>1573744</td>\n",
       "      <td>14</td>\n",
       "      <td>0</td>\n",
       "      <td>40740</td>\n",
       "      <td>prior</td>\n",
       "      <td>2</td>\n",
       "      <td>1</td>\n",
       "      <td>19</td>\n",
       "      <td>6.0</td>\n",
       "    </tr>\n",
       "  </tbody>\n",
       "</table>\n",
       "</div>"
      ],
      "text/plain": [
       "          product_id                                       product_name  \\\n",
       "30387828       31717                                   Organic Cilantro   \n",
       "21740327       21903                               Organic Baby Spinach   \n",
       "23437428       10246                              Organic Celery Hearts   \n",
       "13867586       26683  Cafe Latte Pure Lightly Sweetened Iced Coffee ...   \n",
       "18841574       39719  Freshly Made. Filled with Creamy Ricotta, Aged...   \n",
       "\n",
       "          aisle_id  department_id       department  \\\n",
       "30387828        16              4          produce   \n",
       "21740327       123              4          produce   \n",
       "23437428        83              4          produce   \n",
       "13867586        91             16       dairy eggs   \n",
       "18841574        12              9  dry goods pasta   \n",
       "\n",
       "                               aisle  order_id  add_to_cart_order  reordered  \\\n",
       "30387828                 fresh herbs    121586                  5          1   \n",
       "21740327  packaged vegetables fruits   3114643                  1          1   \n",
       "23437428            fresh vegetables   3358567                 10          1   \n",
       "13867586             soy lactosefree   1331837                  1          1   \n",
       "18841574                 fresh pasta   1573744                 14          0   \n",
       "\n",
       "          user_id eval_set  order_number  order_dow  order_hour_of_day  \\\n",
       "30387828   193584    prior            15          4                 15   \n",
       "21740327    24493    prior             3          1                 17   \n",
       "23437428   162930    prior            42          2                 13   \n",
       "13867586    93805    prior             9          4                  9   \n",
       "18841574    40740    prior             2          1                 19   \n",
       "\n",
       "          days_since_prior_order  \n",
       "30387828                     5.0  \n",
       "21740327                     1.0  \n",
       "23437428                     3.0  \n",
       "13867586                    12.0  \n",
       "18841574                     6.0  "
      ]
     },
     "execution_count": 6,
     "metadata": {},
     "output_type": "execute_result"
    }
   ],
   "source": [
    "grocery.head()"
   ]
  },
  {
   "cell_type": "code",
   "execution_count": null,
   "id": "embedded-patent",
   "metadata": {},
   "outputs": [],
   "source": []
  },
  {
   "cell_type": "code",
   "execution_count": 7,
   "id": "modified-mixture",
   "metadata": {},
   "outputs": [
    {
     "data": {
      "text/html": [
       "<div>\n",
       "<style scoped>\n",
       "    .dataframe tbody tr th:only-of-type {\n",
       "        vertical-align: middle;\n",
       "    }\n",
       "\n",
       "    .dataframe tbody tr th {\n",
       "        vertical-align: top;\n",
       "    }\n",
       "\n",
       "    .dataframe thead th {\n",
       "        text-align: right;\n",
       "    }\n",
       "</style>\n",
       "<table border=\"1\" class=\"dataframe\">\n",
       "  <thead>\n",
       "    <tr style=\"text-align: right;\">\n",
       "      <th></th>\n",
       "      <th>department_id</th>\n",
       "      <th>department</th>\n",
       "    </tr>\n",
       "  </thead>\n",
       "  <tbody>\n",
       "    <tr>\n",
       "      <th>0</th>\n",
       "      <td>1</td>\n",
       "      <td>frozen</td>\n",
       "    </tr>\n",
       "    <tr>\n",
       "      <th>1</th>\n",
       "      <td>2</td>\n",
       "      <td>other</td>\n",
       "    </tr>\n",
       "    <tr>\n",
       "      <th>2</th>\n",
       "      <td>3</td>\n",
       "      <td>bakery</td>\n",
       "    </tr>\n",
       "    <tr>\n",
       "      <th>3</th>\n",
       "      <td>4</td>\n",
       "      <td>produce</td>\n",
       "    </tr>\n",
       "    <tr>\n",
       "      <th>4</th>\n",
       "      <td>5</td>\n",
       "      <td>alcohol</td>\n",
       "    </tr>\n",
       "    <tr>\n",
       "      <th>5</th>\n",
       "      <td>6</td>\n",
       "      <td>international</td>\n",
       "    </tr>\n",
       "    <tr>\n",
       "      <th>6</th>\n",
       "      <td>7</td>\n",
       "      <td>beverages</td>\n",
       "    </tr>\n",
       "    <tr>\n",
       "      <th>7</th>\n",
       "      <td>8</td>\n",
       "      <td>pets</td>\n",
       "    </tr>\n",
       "    <tr>\n",
       "      <th>8</th>\n",
       "      <td>9</td>\n",
       "      <td>dry goods pasta</td>\n",
       "    </tr>\n",
       "    <tr>\n",
       "      <th>9</th>\n",
       "      <td>10</td>\n",
       "      <td>bulk</td>\n",
       "    </tr>\n",
       "    <tr>\n",
       "      <th>10</th>\n",
       "      <td>11</td>\n",
       "      <td>personal care</td>\n",
       "    </tr>\n",
       "    <tr>\n",
       "      <th>11</th>\n",
       "      <td>12</td>\n",
       "      <td>meat seafood</td>\n",
       "    </tr>\n",
       "    <tr>\n",
       "      <th>12</th>\n",
       "      <td>13</td>\n",
       "      <td>pantry</td>\n",
       "    </tr>\n",
       "    <tr>\n",
       "      <th>13</th>\n",
       "      <td>14</td>\n",
       "      <td>breakfast</td>\n",
       "    </tr>\n",
       "    <tr>\n",
       "      <th>14</th>\n",
       "      <td>15</td>\n",
       "      <td>canned goods</td>\n",
       "    </tr>\n",
       "    <tr>\n",
       "      <th>15</th>\n",
       "      <td>16</td>\n",
       "      <td>dairy eggs</td>\n",
       "    </tr>\n",
       "    <tr>\n",
       "      <th>16</th>\n",
       "      <td>17</td>\n",
       "      <td>household</td>\n",
       "    </tr>\n",
       "    <tr>\n",
       "      <th>17</th>\n",
       "      <td>18</td>\n",
       "      <td>babies</td>\n",
       "    </tr>\n",
       "    <tr>\n",
       "      <th>18</th>\n",
       "      <td>19</td>\n",
       "      <td>snacks</td>\n",
       "    </tr>\n",
       "    <tr>\n",
       "      <th>19</th>\n",
       "      <td>20</td>\n",
       "      <td>deli</td>\n",
       "    </tr>\n",
       "    <tr>\n",
       "      <th>20</th>\n",
       "      <td>21</td>\n",
       "      <td>missing</td>\n",
       "    </tr>\n",
       "  </tbody>\n",
       "</table>\n",
       "</div>"
      ],
      "text/plain": [
       "    department_id       department\n",
       "0               1           frozen\n",
       "1               2            other\n",
       "2               3           bakery\n",
       "3               4          produce\n",
       "4               5          alcohol\n",
       "5               6    international\n",
       "6               7        beverages\n",
       "7               8             pets\n",
       "8               9  dry goods pasta\n",
       "9              10             bulk\n",
       "10             11    personal care\n",
       "11             12     meat seafood\n",
       "12             13           pantry\n",
       "13             14        breakfast\n",
       "14             15     canned goods\n",
       "15             16       dairy eggs\n",
       "16             17        household\n",
       "17             18           babies\n",
       "18             19           snacks\n",
       "19             20             deli\n",
       "20             21          missing"
      ]
     },
     "execution_count": 7,
     "metadata": {},
     "output_type": "execute_result"
    }
   ],
   "source": [
    "departments"
   ]
  },
  {
   "cell_type": "markdown",
   "id": "biological-apollo",
   "metadata": {},
   "source": [
    "## First Impressions:\n",
    "At first glance there is a lot of information going into this dataset. Upon closer inspection there are products in the set that are not categorized as food products like cat food and cleaning supplies. I will be sorting that out first. Most if not all of the string label columns aren't needed, but I will be keeping the product_name category for simplicity sake so we don't have to keep looking into the products dataset to find out what the names of the product is. "
   ]
  },
  {
   "cell_type": "code",
   "execution_count": 8,
   "id": "handy-orlando",
   "metadata": {},
   "outputs": [],
   "source": [
    "food_items = grocery.loc[grocery['department'] !='pets']\n",
    "food_items = food_items.loc[food_items['department'] !='household']\n",
    "food_items = food_items.loc[food_items['department'] != 'personal care']\n",
    "food_items = food_items.loc[food_items['department'] != 'babies']"
   ]
  },
  {
   "cell_type": "markdown",
   "id": "hungry-infrastructure",
   "metadata": {},
   "source": [
    "I am removing the above categories from the department section since they are considered non food (I know babies need food but upon further inspection it only accounts for 1/10th of the data plus it isn't an everyday item after a certain age) after removing said categories I am left with 9452 rows of the original dataset. I will also be removing the department missing from the data since that is a catch all for everything that was miss categorized"
   ]
  },
  {
   "cell_type": "code",
   "execution_count": 9,
   "id": "official-turner",
   "metadata": {},
   "outputs": [],
   "source": [
    "food_items = food_items.loc[food_items['department'] !='missing']"
   ]
  },
  {
   "cell_type": "code",
   "execution_count": 10,
   "id": "oriented-macintosh",
   "metadata": {},
   "outputs": [
    {
     "name": "stdout",
     "output_type": "stream",
     "text": [
      "<class 'pandas.core.frame.DataFrame'>\n",
      "Int64Index: 141807 entries, 30387828 to 12196921\n",
      "Data columns (total 15 columns):\n",
      " #   Column                  Non-Null Count   Dtype  \n",
      "---  ------                  --------------   -----  \n",
      " 0   product_id              141807 non-null  int64  \n",
      " 1   product_name            141807 non-null  object \n",
      " 2   aisle_id                141807 non-null  int64  \n",
      " 3   department_id           141807 non-null  int64  \n",
      " 4   department              141807 non-null  object \n",
      " 5   aisle                   141807 non-null  object \n",
      " 6   order_id                141807 non-null  int64  \n",
      " 7   add_to_cart_order       141807 non-null  int64  \n",
      " 8   reordered               141807 non-null  int64  \n",
      " 9   user_id                 141807 non-null  int64  \n",
      " 10  eval_set                141807 non-null  object \n",
      " 11  order_number            141807 non-null  int64  \n",
      " 12  order_dow               141807 non-null  int64  \n",
      " 13  order_hour_of_day       141807 non-null  int64  \n",
      " 14  days_since_prior_order  141807 non-null  float64\n",
      "dtypes: float64(1), int64(10), object(4)\n",
      "memory usage: 17.3+ MB\n"
     ]
    }
   ],
   "source": [
    "food_items.info()"
   ]
  },
  {
   "cell_type": "markdown",
   "id": "according-appreciation",
   "metadata": {},
   "source": [
    "With that I am satisfied so far with how things look in the columns and values so I will be making a function out of it so I can apply to the other dataframes where needed. It will be called Clean from here on."
   ]
  },
  {
   "cell_type": "markdown",
   "id": "embedded-joshua",
   "metadata": {},
   "source": [
    "# Explore\n",
    "We will be taking a quick look at the different datasets and get a feel for what they are comprised of.\n"
   ]
  },
  {
   "cell_type": "markdown",
   "id": "micro-animation",
   "metadata": {
    "heading_collapsed": true
   },
   "source": [
    "## Aisles"
   ]
  },
  {
   "cell_type": "code",
   "execution_count": 11,
   "id": "outdoor-croatia",
   "metadata": {
    "hidden": true
   },
   "outputs": [],
   "source": [
    "# pr(aisles)"
   ]
  },
  {
   "cell_type": "code",
   "execution_count": 12,
   "id": "mechanical-proceeding",
   "metadata": {
    "hidden": true
   },
   "outputs": [
    {
     "data": {
      "text/html": [
       "<div>\n",
       "<style scoped>\n",
       "    .dataframe tbody tr th:only-of-type {\n",
       "        vertical-align: middle;\n",
       "    }\n",
       "\n",
       "    .dataframe tbody tr th {\n",
       "        vertical-align: top;\n",
       "    }\n",
       "\n",
       "    .dataframe thead th {\n",
       "        text-align: right;\n",
       "    }\n",
       "</style>\n",
       "<table border=\"1\" class=\"dataframe\">\n",
       "  <thead>\n",
       "    <tr style=\"text-align: right;\">\n",
       "      <th></th>\n",
       "      <th>aisle_id</th>\n",
       "      <th>aisle</th>\n",
       "    </tr>\n",
       "  </thead>\n",
       "  <tbody>\n",
       "    <tr>\n",
       "      <th>0</th>\n",
       "      <td>1</td>\n",
       "      <td>prepared soups salads</td>\n",
       "    </tr>\n",
       "    <tr>\n",
       "      <th>1</th>\n",
       "      <td>2</td>\n",
       "      <td>specialty cheeses</td>\n",
       "    </tr>\n",
       "    <tr>\n",
       "      <th>2</th>\n",
       "      <td>3</td>\n",
       "      <td>energy granola bars</td>\n",
       "    </tr>\n",
       "    <tr>\n",
       "      <th>3</th>\n",
       "      <td>4</td>\n",
       "      <td>instant foods</td>\n",
       "    </tr>\n",
       "    <tr>\n",
       "      <th>4</th>\n",
       "      <td>5</td>\n",
       "      <td>marinades meat preparation</td>\n",
       "    </tr>\n",
       "  </tbody>\n",
       "</table>\n",
       "</div>"
      ],
      "text/plain": [
       "   aisle_id                       aisle\n",
       "0         1       prepared soups salads\n",
       "1         2           specialty cheeses\n",
       "2         3         energy granola bars\n",
       "3         4               instant foods\n",
       "4         5  marinades meat preparation"
      ]
     },
     "metadata": {},
     "output_type": "display_data"
    },
    {
     "name": "stdout",
     "output_type": "stream",
     "text": [
      "<class 'pandas.core.frame.DataFrame'>\n",
      "RangeIndex: 134 entries, 0 to 133\n",
      "Data columns (total 2 columns):\n",
      " #   Column    Non-Null Count  Dtype \n",
      "---  ------    --------------  ----- \n",
      " 0   aisle_id  134 non-null    int64 \n",
      " 1   aisle     134 non-null    object\n",
      "dtypes: int64(1), object(1)\n",
      "memory usage: 2.2+ KB\n"
     ]
    }
   ],
   "source": [
    "display(aisles.head())\n",
    "aisles.info()\n"
   ]
  },
  {
   "cell_type": "code",
   "execution_count": 13,
   "id": "helpful-attachment",
   "metadata": {
    "hidden": true
   },
   "outputs": [
    {
     "data": {
      "text/html": [
       "<div>\n",
       "<style scoped>\n",
       "    .dataframe tbody tr th:only-of-type {\n",
       "        vertical-align: middle;\n",
       "    }\n",
       "\n",
       "    .dataframe tbody tr th {\n",
       "        vertical-align: top;\n",
       "    }\n",
       "\n",
       "    .dataframe thead th {\n",
       "        text-align: right;\n",
       "    }\n",
       "</style>\n",
       "<table border=\"1\" class=\"dataframe\">\n",
       "  <thead>\n",
       "    <tr style=\"text-align: right;\">\n",
       "      <th></th>\n",
       "      <th>aisle_id</th>\n",
       "    </tr>\n",
       "  </thead>\n",
       "  <tbody>\n",
       "    <tr>\n",
       "      <th>count</th>\n",
       "      <td>134.000000</td>\n",
       "    </tr>\n",
       "    <tr>\n",
       "      <th>mean</th>\n",
       "      <td>67.500000</td>\n",
       "    </tr>\n",
       "    <tr>\n",
       "      <th>std</th>\n",
       "      <td>38.826537</td>\n",
       "    </tr>\n",
       "    <tr>\n",
       "      <th>min</th>\n",
       "      <td>1.000000</td>\n",
       "    </tr>\n",
       "    <tr>\n",
       "      <th>25%</th>\n",
       "      <td>34.250000</td>\n",
       "    </tr>\n",
       "    <tr>\n",
       "      <th>50%</th>\n",
       "      <td>67.500000</td>\n",
       "    </tr>\n",
       "    <tr>\n",
       "      <th>75%</th>\n",
       "      <td>100.750000</td>\n",
       "    </tr>\n",
       "    <tr>\n",
       "      <th>max</th>\n",
       "      <td>134.000000</td>\n",
       "    </tr>\n",
       "  </tbody>\n",
       "</table>\n",
       "</div>"
      ],
      "text/plain": [
       "         aisle_id\n",
       "count  134.000000\n",
       "mean    67.500000\n",
       "std     38.826537\n",
       "min      1.000000\n",
       "25%     34.250000\n",
       "50%     67.500000\n",
       "75%    100.750000\n",
       "max    134.000000"
      ]
     },
     "execution_count": 13,
     "metadata": {},
     "output_type": "execute_result"
    }
   ],
   "source": [
    "aisles.describe()"
   ]
  },
  {
   "cell_type": "markdown",
   "id": "straight-huntington",
   "metadata": {
    "heading_collapsed": true
   },
   "source": [
    "## Departments"
   ]
  },
  {
   "cell_type": "code",
   "execution_count": 14,
   "id": "figured-penny",
   "metadata": {
    "hidden": true
   },
   "outputs": [],
   "source": [
    "# pr(departments)"
   ]
  },
  {
   "cell_type": "code",
   "execution_count": 15,
   "id": "later-moldova",
   "metadata": {
    "hidden": true
   },
   "outputs": [
    {
     "data": {
      "text/html": [
       "<div>\n",
       "<style scoped>\n",
       "    .dataframe tbody tr th:only-of-type {\n",
       "        vertical-align: middle;\n",
       "    }\n",
       "\n",
       "    .dataframe tbody tr th {\n",
       "        vertical-align: top;\n",
       "    }\n",
       "\n",
       "    .dataframe thead th {\n",
       "        text-align: right;\n",
       "    }\n",
       "</style>\n",
       "<table border=\"1\" class=\"dataframe\">\n",
       "  <thead>\n",
       "    <tr style=\"text-align: right;\">\n",
       "      <th></th>\n",
       "      <th>department_id</th>\n",
       "      <th>department</th>\n",
       "    </tr>\n",
       "  </thead>\n",
       "  <tbody>\n",
       "    <tr>\n",
       "      <th>0</th>\n",
       "      <td>1</td>\n",
       "      <td>frozen</td>\n",
       "    </tr>\n",
       "    <tr>\n",
       "      <th>1</th>\n",
       "      <td>2</td>\n",
       "      <td>other</td>\n",
       "    </tr>\n",
       "    <tr>\n",
       "      <th>2</th>\n",
       "      <td>3</td>\n",
       "      <td>bakery</td>\n",
       "    </tr>\n",
       "    <tr>\n",
       "      <th>3</th>\n",
       "      <td>4</td>\n",
       "      <td>produce</td>\n",
       "    </tr>\n",
       "    <tr>\n",
       "      <th>4</th>\n",
       "      <td>5</td>\n",
       "      <td>alcohol</td>\n",
       "    </tr>\n",
       "  </tbody>\n",
       "</table>\n",
       "</div>"
      ],
      "text/plain": [
       "   department_id department\n",
       "0              1     frozen\n",
       "1              2      other\n",
       "2              3     bakery\n",
       "3              4    produce\n",
       "4              5    alcohol"
      ]
     },
     "metadata": {},
     "output_type": "display_data"
    },
    {
     "name": "stdout",
     "output_type": "stream",
     "text": [
      "<class 'pandas.core.frame.DataFrame'>\n",
      "RangeIndex: 21 entries, 0 to 20\n",
      "Data columns (total 2 columns):\n",
      " #   Column         Non-Null Count  Dtype \n",
      "---  ------         --------------  ----- \n",
      " 0   department_id  21 non-null     int64 \n",
      " 1   department     21 non-null     object\n",
      "dtypes: int64(1), object(1)\n",
      "memory usage: 464.0+ bytes\n"
     ]
    },
    {
     "data": {
      "text/plain": [
       "None"
      ]
     },
     "metadata": {},
     "output_type": "display_data"
    },
    {
     "data": {
      "text/plain": [
       "<AxesSubplot:xlabel='department'>"
      ]
     },
     "execution_count": 15,
     "metadata": {},
     "output_type": "execute_result"
    },
    {
     "data": {
      "image/png": "[encoded data removed]",
      "text/plain": [
       "<Figure size 432x288 with 1 Axes>"
      ]
     },
     "metadata": {
      "needs_background": "light"
     },
     "output_type": "display_data"
    }
   ],
   "source": [
    "display(departments.head( ))\n",
    "display(departments.info())\n",
    "departments.plot(x ='department', y='department_id', kind = 'bar')\n"
   ]
  },
  {
   "cell_type": "code",
   "execution_count": 16,
   "id": "ready-snapshot",
   "metadata": {
    "hidden": true
   },
   "outputs": [
    {
     "data": {
      "text/html": [
       "<div>\n",
       "<style scoped>\n",
       "    .dataframe tbody tr th:only-of-type {\n",
       "        vertical-align: middle;\n",
       "    }\n",
       "\n",
       "    .dataframe tbody tr th {\n",
       "        vertical-align: top;\n",
       "    }\n",
       "\n",
       "    .dataframe thead th {\n",
       "        text-align: right;\n",
       "    }\n",
       "</style>\n",
       "<table border=\"1\" class=\"dataframe\">\n",
       "  <thead>\n",
       "    <tr style=\"text-align: right;\">\n",
       "      <th></th>\n",
       "      <th>department_id</th>\n",
       "    </tr>\n",
       "  </thead>\n",
       "  <tbody>\n",
       "    <tr>\n",
       "      <th>count</th>\n",
       "      <td>21.000000</td>\n",
       "    </tr>\n",
       "    <tr>\n",
       "      <th>mean</th>\n",
       "      <td>11.000000</td>\n",
       "    </tr>\n",
       "    <tr>\n",
       "      <th>std</th>\n",
       "      <td>6.204837</td>\n",
       "    </tr>\n",
       "    <tr>\n",
       "      <th>min</th>\n",
       "      <td>1.000000</td>\n",
       "    </tr>\n",
       "    <tr>\n",
       "      <th>25%</th>\n",
       "      <td>6.000000</td>\n",
       "    </tr>\n",
       "    <tr>\n",
       "      <th>50%</th>\n",
       "      <td>11.000000</td>\n",
       "    </tr>\n",
       "    <tr>\n",
       "      <th>75%</th>\n",
       "      <td>16.000000</td>\n",
       "    </tr>\n",
       "    <tr>\n",
       "      <th>max</th>\n",
       "      <td>21.000000</td>\n",
       "    </tr>\n",
       "  </tbody>\n",
       "</table>\n",
       "</div>"
      ],
      "text/plain": [
       "       department_id\n",
       "count      21.000000\n",
       "mean       11.000000\n",
       "std         6.204837\n",
       "min         1.000000\n",
       "25%         6.000000\n",
       "50%        11.000000\n",
       "75%        16.000000\n",
       "max        21.000000"
      ]
     },
     "execution_count": 16,
     "metadata": {},
     "output_type": "execute_result"
    }
   ],
   "source": [
    "departments.describe()"
   ]
  },
  {
   "cell_type": "code",
   "execution_count": null,
   "id": "stretch-produce",
   "metadata": {
    "hidden": true
   },
   "outputs": [],
   "source": []
  },
  {
   "cell_type": "code",
   "execution_count": null,
   "id": "stock-drill",
   "metadata": {
    "hidden": true
   },
   "outputs": [],
   "source": []
  },
  {
   "cell_type": "code",
   "execution_count": null,
   "id": "alien-diameter",
   "metadata": {
    "hidden": true
   },
   "outputs": [],
   "source": []
  },
  {
   "cell_type": "markdown",
   "id": "packed-berlin",
   "metadata": {
    "heading_collapsed": true
   },
   "source": [
    "## Products"
   ]
  },
  {
   "cell_type": "code",
   "execution_count": 17,
   "id": "entire-class",
   "metadata": {
    "hidden": true
   },
   "outputs": [],
   "source": [
    "# pr(products)"
   ]
  },
  {
   "cell_type": "code",
   "execution_count": 18,
   "id": "acting-vault",
   "metadata": {
    "hidden": true
   },
   "outputs": [
    {
     "name": "stdout",
     "output_type": "stream",
     "text": [
      "<class 'pandas.core.frame.DataFrame'>\n",
      "RangeIndex: 49688 entries, 0 to 49687\n",
      "Data columns (total 4 columns):\n",
      " #   Column         Non-Null Count  Dtype \n",
      "---  ------         --------------  ----- \n",
      " 0   product_id     49688 non-null  int64 \n",
      " 1   product_name   49688 non-null  object\n",
      " 2   aisle_id       49688 non-null  int64 \n",
      " 3   department_id  49688 non-null  int64 \n",
      "dtypes: int64(3), object(1)\n",
      "memory usage: 1.5+ MB\n"
     ]
    },
    {
     "data": {
      "text/plain": [
       "None"
      ]
     },
     "metadata": {},
     "output_type": "display_data"
    },
    {
     "data": {
      "text/html": [
       "<div>\n",
       "<style scoped>\n",
       "    .dataframe tbody tr th:only-of-type {\n",
       "        vertical-align: middle;\n",
       "    }\n",
       "\n",
       "    .dataframe tbody tr th {\n",
       "        vertical-align: top;\n",
       "    }\n",
       "\n",
       "    .dataframe thead th {\n",
       "        text-align: right;\n",
       "    }\n",
       "</style>\n",
       "<table border=\"1\" class=\"dataframe\">\n",
       "  <thead>\n",
       "    <tr style=\"text-align: right;\">\n",
       "      <th></th>\n",
       "      <th>product_id</th>\n",
       "      <th>product_name</th>\n",
       "      <th>aisle_id</th>\n",
       "      <th>department_id</th>\n",
       "    </tr>\n",
       "  </thead>\n",
       "  <tbody>\n",
       "    <tr>\n",
       "      <th>0</th>\n",
       "      <td>1</td>\n",
       "      <td>Chocolate Sandwich Cookies</td>\n",
       "      <td>61</td>\n",
       "      <td>19</td>\n",
       "    </tr>\n",
       "    <tr>\n",
       "      <th>1</th>\n",
       "      <td>2</td>\n",
       "      <td>All-Seasons Salt</td>\n",
       "      <td>104</td>\n",
       "      <td>13</td>\n",
       "    </tr>\n",
       "    <tr>\n",
       "      <th>2</th>\n",
       "      <td>3</td>\n",
       "      <td>Robust Golden Unsweetened Oolong Tea</td>\n",
       "      <td>94</td>\n",
       "      <td>7</td>\n",
       "    </tr>\n",
       "    <tr>\n",
       "      <th>3</th>\n",
       "      <td>4</td>\n",
       "      <td>Smart Ones Classic Favorites Mini Rigatoni Wit...</td>\n",
       "      <td>38</td>\n",
       "      <td>1</td>\n",
       "    </tr>\n",
       "    <tr>\n",
       "      <th>4</th>\n",
       "      <td>5</td>\n",
       "      <td>Green Chile Anytime Sauce</td>\n",
       "      <td>5</td>\n",
       "      <td>13</td>\n",
       "    </tr>\n",
       "  </tbody>\n",
       "</table>\n",
       "</div>"
      ],
      "text/plain": [
       "   product_id                                       product_name  aisle_id  \\\n",
       "0           1                         Chocolate Sandwich Cookies        61   \n",
       "1           2                                   All-Seasons Salt       104   \n",
       "2           3               Robust Golden Unsweetened Oolong Tea        94   \n",
       "3           4  Smart Ones Classic Favorites Mini Rigatoni Wit...        38   \n",
       "4           5                          Green Chile Anytime Sauce         5   \n",
       "\n",
       "   department_id  \n",
       "0             19  \n",
       "1             13  \n",
       "2              7  \n",
       "3              1  \n",
       "4             13  "
      ]
     },
     "metadata": {},
     "output_type": "display_data"
    }
   ],
   "source": [
    "display(products.info())\n",
    "display(products.head())"
   ]
  },
  {
   "cell_type": "code",
   "execution_count": 19,
   "id": "demanding-viewer",
   "metadata": {
    "hidden": true
   },
   "outputs": [
    {
     "data": {
      "text/html": [
       "<div>\n",
       "<style scoped>\n",
       "    .dataframe tbody tr th:only-of-type {\n",
       "        vertical-align: middle;\n",
       "    }\n",
       "\n",
       "    .dataframe tbody tr th {\n",
       "        vertical-align: top;\n",
       "    }\n",
       "\n",
       "    .dataframe thead th {\n",
       "        text-align: right;\n",
       "    }\n",
       "</style>\n",
       "<table border=\"1\" class=\"dataframe\">\n",
       "  <thead>\n",
       "    <tr style=\"text-align: right;\">\n",
       "      <th></th>\n",
       "      <th>product_id</th>\n",
       "      <th>aisle_id</th>\n",
       "      <th>department_id</th>\n",
       "    </tr>\n",
       "  </thead>\n",
       "  <tbody>\n",
       "    <tr>\n",
       "      <th>count</th>\n",
       "      <td>49688.000000</td>\n",
       "      <td>49688.000000</td>\n",
       "      <td>49688.000000</td>\n",
       "    </tr>\n",
       "    <tr>\n",
       "      <th>mean</th>\n",
       "      <td>24844.500000</td>\n",
       "      <td>67.769582</td>\n",
       "      <td>11.728687</td>\n",
       "    </tr>\n",
       "    <tr>\n",
       "      <th>std</th>\n",
       "      <td>14343.834425</td>\n",
       "      <td>38.316162</td>\n",
       "      <td>5.850410</td>\n",
       "    </tr>\n",
       "    <tr>\n",
       "      <th>min</th>\n",
       "      <td>1.000000</td>\n",
       "      <td>1.000000</td>\n",
       "      <td>1.000000</td>\n",
       "    </tr>\n",
       "    <tr>\n",
       "      <th>25%</th>\n",
       "      <td>12422.750000</td>\n",
       "      <td>35.000000</td>\n",
       "      <td>7.000000</td>\n",
       "    </tr>\n",
       "    <tr>\n",
       "      <th>50%</th>\n",
       "      <td>24844.500000</td>\n",
       "      <td>69.000000</td>\n",
       "      <td>13.000000</td>\n",
       "    </tr>\n",
       "    <tr>\n",
       "      <th>75%</th>\n",
       "      <td>37266.250000</td>\n",
       "      <td>100.000000</td>\n",
       "      <td>17.000000</td>\n",
       "    </tr>\n",
       "    <tr>\n",
       "      <th>max</th>\n",
       "      <td>49688.000000</td>\n",
       "      <td>134.000000</td>\n",
       "      <td>21.000000</td>\n",
       "    </tr>\n",
       "  </tbody>\n",
       "</table>\n",
       "</div>"
      ],
      "text/plain": [
       "         product_id      aisle_id  department_id\n",
       "count  49688.000000  49688.000000   49688.000000\n",
       "mean   24844.500000     67.769582      11.728687\n",
       "std    14343.834425     38.316162       5.850410\n",
       "min        1.000000      1.000000       1.000000\n",
       "25%    12422.750000     35.000000       7.000000\n",
       "50%    24844.500000     69.000000      13.000000\n",
       "75%    37266.250000    100.000000      17.000000\n",
       "max    49688.000000    134.000000      21.000000"
      ]
     },
     "execution_count": 19,
     "metadata": {},
     "output_type": "execute_result"
    }
   ],
   "source": [
    "products.describe()"
   ]
  },
  {
   "cell_type": "markdown",
   "id": "tested-princeton",
   "metadata": {
    "heading_collapsed": true
   },
   "source": [
    "## Previous Orders"
   ]
  },
  {
   "cell_type": "code",
   "execution_count": 20,
   "id": "compound-jacket",
   "metadata": {
    "hidden": true
   },
   "outputs": [],
   "source": [
    "# pr(orders_prior)"
   ]
  },
  {
   "cell_type": "code",
   "execution_count": 21,
   "id": "pharmaceutical-hollywood",
   "metadata": {
    "hidden": true
   },
   "outputs": [
    {
     "name": "stdout",
     "output_type": "stream",
     "text": [
      "<class 'pandas.core.frame.DataFrame'>\n",
      "RangeIndex: 32434489 entries, 0 to 32434488\n",
      "Data columns (total 4 columns):\n",
      " #   Column             Dtype\n",
      "---  ------             -----\n",
      " 0   order_id           int64\n",
      " 1   product_id         int64\n",
      " 2   add_to_cart_order  int64\n",
      " 3   reordered          int64\n",
      "dtypes: int64(4)\n",
      "memory usage: 989.8 MB\n"
     ]
    },
    {
     "data": {
      "text/plain": [
       "None"
      ]
     },
     "metadata": {},
     "output_type": "display_data"
    },
    {
     "data": {
      "text/html": [
       "<div>\n",
       "<style scoped>\n",
       "    .dataframe tbody tr th:only-of-type {\n",
       "        vertical-align: middle;\n",
       "    }\n",
       "\n",
       "    .dataframe tbody tr th {\n",
       "        vertical-align: top;\n",
       "    }\n",
       "\n",
       "    .dataframe thead th {\n",
       "        text-align: right;\n",
       "    }\n",
       "</style>\n",
       "<table border=\"1\" class=\"dataframe\">\n",
       "  <thead>\n",
       "    <tr style=\"text-align: right;\">\n",
       "      <th></th>\n",
       "      <th>order_id</th>\n",
       "      <th>product_id</th>\n",
       "      <th>add_to_cart_order</th>\n",
       "      <th>reordered</th>\n",
       "    </tr>\n",
       "  </thead>\n",
       "  <tbody>\n",
       "    <tr>\n",
       "      <th>0</th>\n",
       "      <td>2</td>\n",
       "      <td>33120</td>\n",
       "      <td>1</td>\n",
       "      <td>1</td>\n",
       "    </tr>\n",
       "    <tr>\n",
       "      <th>1</th>\n",
       "      <td>2</td>\n",
       "      <td>28985</td>\n",
       "      <td>2</td>\n",
       "      <td>1</td>\n",
       "    </tr>\n",
       "    <tr>\n",
       "      <th>2</th>\n",
       "      <td>2</td>\n",
       "      <td>9327</td>\n",
       "      <td>3</td>\n",
       "      <td>0</td>\n",
       "    </tr>\n",
       "    <tr>\n",
       "      <th>3</th>\n",
       "      <td>2</td>\n",
       "      <td>45918</td>\n",
       "      <td>4</td>\n",
       "      <td>1</td>\n",
       "    </tr>\n",
       "    <tr>\n",
       "      <th>4</th>\n",
       "      <td>2</td>\n",
       "      <td>30035</td>\n",
       "      <td>5</td>\n",
       "      <td>0</td>\n",
       "    </tr>\n",
       "  </tbody>\n",
       "</table>\n",
       "</div>"
      ],
      "text/plain": [
       "   order_id  product_id  add_to_cart_order  reordered\n",
       "0         2       33120                  1          1\n",
       "1         2       28985                  2          1\n",
       "2         2        9327                  3          0\n",
       "3         2       45918                  4          1\n",
       "4         2       30035                  5          0"
      ]
     },
     "metadata": {},
     "output_type": "display_data"
    }
   ],
   "source": [
    "display(orders_prior.info())\n",
    "display(orders_prior.head())"
   ]
  },
  {
   "cell_type": "code",
   "execution_count": 22,
   "id": "designed-namibia",
   "metadata": {
    "hidden": true
   },
   "outputs": [
    {
     "data": {
      "text/html": [
       "<div>\n",
       "<style scoped>\n",
       "    .dataframe tbody tr th:only-of-type {\n",
       "        vertical-align: middle;\n",
       "    }\n",
       "\n",
       "    .dataframe tbody tr th {\n",
       "        vertical-align: top;\n",
       "    }\n",
       "\n",
       "    .dataframe thead th {\n",
       "        text-align: right;\n",
       "    }\n",
       "</style>\n",
       "<table border=\"1\" class=\"dataframe\">\n",
       "  <thead>\n",
       "    <tr style=\"text-align: right;\">\n",
       "      <th></th>\n",
       "      <th>order_id</th>\n",
       "      <th>product_id</th>\n",
       "      <th>add_to_cart_order</th>\n",
       "      <th>reordered</th>\n",
       "    </tr>\n",
       "  </thead>\n",
       "  <tbody>\n",
       "    <tr>\n",
       "      <th>count</th>\n",
       "      <td>3.243449e+07</td>\n",
       "      <td>3.243449e+07</td>\n",
       "      <td>3.243449e+07</td>\n",
       "      <td>3.243449e+07</td>\n",
       "    </tr>\n",
       "    <tr>\n",
       "      <th>mean</th>\n",
       "      <td>1.710749e+06</td>\n",
       "      <td>2.557634e+04</td>\n",
       "      <td>8.351076e+00</td>\n",
       "      <td>5.896975e-01</td>\n",
       "    </tr>\n",
       "    <tr>\n",
       "      <th>std</th>\n",
       "      <td>9.873007e+05</td>\n",
       "      <td>1.409669e+04</td>\n",
       "      <td>7.126671e+00</td>\n",
       "      <td>4.918886e-01</td>\n",
       "    </tr>\n",
       "    <tr>\n",
       "      <th>min</th>\n",
       "      <td>2.000000e+00</td>\n",
       "      <td>1.000000e+00</td>\n",
       "      <td>1.000000e+00</td>\n",
       "      <td>0.000000e+00</td>\n",
       "    </tr>\n",
       "    <tr>\n",
       "      <th>25%</th>\n",
       "      <td>8.559430e+05</td>\n",
       "      <td>1.353000e+04</td>\n",
       "      <td>3.000000e+00</td>\n",
       "      <td>0.000000e+00</td>\n",
       "    </tr>\n",
       "    <tr>\n",
       "      <th>50%</th>\n",
       "      <td>1.711048e+06</td>\n",
       "      <td>2.525600e+04</td>\n",
       "      <td>6.000000e+00</td>\n",
       "      <td>1.000000e+00</td>\n",
       "    </tr>\n",
       "    <tr>\n",
       "      <th>75%</th>\n",
       "      <td>2.565514e+06</td>\n",
       "      <td>3.793500e+04</td>\n",
       "      <td>1.100000e+01</td>\n",
       "      <td>1.000000e+00</td>\n",
       "    </tr>\n",
       "    <tr>\n",
       "      <th>max</th>\n",
       "      <td>3.421083e+06</td>\n",
       "      <td>4.968800e+04</td>\n",
       "      <td>1.450000e+02</td>\n",
       "      <td>1.000000e+00</td>\n",
       "    </tr>\n",
       "  </tbody>\n",
       "</table>\n",
       "</div>"
      ],
      "text/plain": [
       "           order_id    product_id  add_to_cart_order     reordered\n",
       "count  3.243449e+07  3.243449e+07       3.243449e+07  3.243449e+07\n",
       "mean   1.710749e+06  2.557634e+04       8.351076e+00  5.896975e-01\n",
       "std    9.873007e+05  1.409669e+04       7.126671e+00  4.918886e-01\n",
       "min    2.000000e+00  1.000000e+00       1.000000e+00  0.000000e+00\n",
       "25%    8.559430e+05  1.353000e+04       3.000000e+00  0.000000e+00\n",
       "50%    1.711048e+06  2.525600e+04       6.000000e+00  1.000000e+00\n",
       "75%    2.565514e+06  3.793500e+04       1.100000e+01  1.000000e+00\n",
       "max    3.421083e+06  4.968800e+04       1.450000e+02  1.000000e+00"
      ]
     },
     "execution_count": 22,
     "metadata": {},
     "output_type": "execute_result"
    }
   ],
   "source": [
    "orders_prior.describe()"
   ]
  },
  {
   "cell_type": "markdown",
   "id": "gentle-guard",
   "metadata": {},
   "source": [
    "## Orders"
   ]
  },
  {
   "cell_type": "code",
   "execution_count": 23,
   "id": "beneficial-yugoslavia",
   "metadata": {},
   "outputs": [],
   "source": [
    "# pr(orders)"
   ]
  },
  {
   "cell_type": "code",
   "execution_count": 24,
   "id": "forty-porcelain",
   "metadata": {},
   "outputs": [
    {
     "name": "stdout",
     "output_type": "stream",
     "text": [
      "<class 'pandas.core.frame.DataFrame'>\n",
      "RangeIndex: 3421083 entries, 0 to 3421082\n",
      "Data columns (total 7 columns):\n",
      " #   Column                  Dtype  \n",
      "---  ------                  -----  \n",
      " 0   order_id                int64  \n",
      " 1   user_id                 int64  \n",
      " 2   eval_set                object \n",
      " 3   order_number            int64  \n",
      " 4   order_dow               int64  \n",
      " 5   order_hour_of_day       int64  \n",
      " 6   days_since_prior_order  float64\n",
      "dtypes: float64(1), int64(5), object(1)\n",
      "memory usage: 182.7+ MB\n"
     ]
    },
    {
     "data": {
      "text/plain": [
       "None"
      ]
     },
     "metadata": {},
     "output_type": "display_data"
    },
    {
     "data": {
      "text/html": [
       "<div>\n",
       "<style scoped>\n",
       "    .dataframe tbody tr th:only-of-type {\n",
       "        vertical-align: middle;\n",
       "    }\n",
       "\n",
       "    .dataframe tbody tr th {\n",
       "        vertical-align: top;\n",
       "    }\n",
       "\n",
       "    .dataframe thead th {\n",
       "        text-align: right;\n",
       "    }\n",
       "</style>\n",
       "<table border=\"1\" class=\"dataframe\">\n",
       "  <thead>\n",
       "    <tr style=\"text-align: right;\">\n",
       "      <th></th>\n",
       "      <th>order_id</th>\n",
       "      <th>user_id</th>\n",
       "      <th>eval_set</th>\n",
       "      <th>order_number</th>\n",
       "      <th>order_dow</th>\n",
       "      <th>order_hour_of_day</th>\n",
       "      <th>days_since_prior_order</th>\n",
       "    </tr>\n",
       "  </thead>\n",
       "  <tbody>\n",
       "    <tr>\n",
       "      <th>0</th>\n",
       "      <td>2539329</td>\n",
       "      <td>1</td>\n",
       "      <td>prior</td>\n",
       "      <td>1</td>\n",
       "      <td>2</td>\n",
       "      <td>8</td>\n",
       "      <td>NaN</td>\n",
       "    </tr>\n",
       "    <tr>\n",
       "      <th>1</th>\n",
       "      <td>2398795</td>\n",
       "      <td>1</td>\n",
       "      <td>prior</td>\n",
       "      <td>2</td>\n",
       "      <td>3</td>\n",
       "      <td>7</td>\n",
       "      <td>15.0</td>\n",
       "    </tr>\n",
       "    <tr>\n",
       "      <th>2</th>\n",
       "      <td>473747</td>\n",
       "      <td>1</td>\n",
       "      <td>prior</td>\n",
       "      <td>3</td>\n",
       "      <td>3</td>\n",
       "      <td>12</td>\n",
       "      <td>21.0</td>\n",
       "    </tr>\n",
       "    <tr>\n",
       "      <th>3</th>\n",
       "      <td>2254736</td>\n",
       "      <td>1</td>\n",
       "      <td>prior</td>\n",
       "      <td>4</td>\n",
       "      <td>4</td>\n",
       "      <td>7</td>\n",
       "      <td>29.0</td>\n",
       "    </tr>\n",
       "    <tr>\n",
       "      <th>4</th>\n",
       "      <td>431534</td>\n",
       "      <td>1</td>\n",
       "      <td>prior</td>\n",
       "      <td>5</td>\n",
       "      <td>4</td>\n",
       "      <td>15</td>\n",
       "      <td>28.0</td>\n",
       "    </tr>\n",
       "  </tbody>\n",
       "</table>\n",
       "</div>"
      ],
      "text/plain": [
       "   order_id  user_id eval_set  order_number  order_dow  order_hour_of_day  \\\n",
       "0   2539329        1    prior             1          2                  8   \n",
       "1   2398795        1    prior             2          3                  7   \n",
       "2    473747        1    prior             3          3                 12   \n",
       "3   2254736        1    prior             4          4                  7   \n",
       "4    431534        1    prior             5          4                 15   \n",
       "\n",
       "   days_since_prior_order  \n",
       "0                     NaN  \n",
       "1                    15.0  \n",
       "2                    21.0  \n",
       "3                    29.0  \n",
       "4                    28.0  "
      ]
     },
     "metadata": {},
     "output_type": "display_data"
    }
   ],
   "source": [
    "display(orders.info())\n",
    "display(orders.head())"
   ]
  },
  {
   "cell_type": "code",
   "execution_count": 25,
   "id": "proof-actor",
   "metadata": {},
   "outputs": [
    {
     "data": {
      "text/html": [
       "<div>\n",
       "<style scoped>\n",
       "    .dataframe tbody tr th:only-of-type {\n",
       "        vertical-align: middle;\n",
       "    }\n",
       "\n",
       "    .dataframe tbody tr th {\n",
       "        vertical-align: top;\n",
       "    }\n",
       "\n",
       "    .dataframe thead th {\n",
       "        text-align: right;\n",
       "    }\n",
       "</style>\n",
       "<table border=\"1\" class=\"dataframe\">\n",
       "  <thead>\n",
       "    <tr style=\"text-align: right;\">\n",
       "      <th></th>\n",
       "      <th>order_id</th>\n",
       "      <th>user_id</th>\n",
       "      <th>order_number</th>\n",
       "      <th>order_dow</th>\n",
       "      <th>order_hour_of_day</th>\n",
       "      <th>days_since_prior_order</th>\n",
       "    </tr>\n",
       "  </thead>\n",
       "  <tbody>\n",
       "    <tr>\n",
       "      <th>count</th>\n",
       "      <td>3.421083e+06</td>\n",
       "      <td>3.421083e+06</td>\n",
       "      <td>3.421083e+06</td>\n",
       "      <td>3.421083e+06</td>\n",
       "      <td>3.421083e+06</td>\n",
       "      <td>3.214874e+06</td>\n",
       "    </tr>\n",
       "    <tr>\n",
       "      <th>mean</th>\n",
       "      <td>1.710542e+06</td>\n",
       "      <td>1.029782e+05</td>\n",
       "      <td>1.715486e+01</td>\n",
       "      <td>2.776219e+00</td>\n",
       "      <td>1.345202e+01</td>\n",
       "      <td>1.111484e+01</td>\n",
       "    </tr>\n",
       "    <tr>\n",
       "      <th>std</th>\n",
       "      <td>9.875817e+05</td>\n",
       "      <td>5.953372e+04</td>\n",
       "      <td>1.773316e+01</td>\n",
       "      <td>2.046829e+00</td>\n",
       "      <td>4.226088e+00</td>\n",
       "      <td>9.206737e+00</td>\n",
       "    </tr>\n",
       "    <tr>\n",
       "      <th>min</th>\n",
       "      <td>1.000000e+00</td>\n",
       "      <td>1.000000e+00</td>\n",
       "      <td>1.000000e+00</td>\n",
       "      <td>0.000000e+00</td>\n",
       "      <td>0.000000e+00</td>\n",
       "      <td>0.000000e+00</td>\n",
       "    </tr>\n",
       "    <tr>\n",
       "      <th>25%</th>\n",
       "      <td>8.552715e+05</td>\n",
       "      <td>5.139400e+04</td>\n",
       "      <td>5.000000e+00</td>\n",
       "      <td>1.000000e+00</td>\n",
       "      <td>1.000000e+01</td>\n",
       "      <td>4.000000e+00</td>\n",
       "    </tr>\n",
       "    <tr>\n",
       "      <th>50%</th>\n",
       "      <td>1.710542e+06</td>\n",
       "      <td>1.026890e+05</td>\n",
       "      <td>1.100000e+01</td>\n",
       "      <td>3.000000e+00</td>\n",
       "      <td>1.300000e+01</td>\n",
       "      <td>7.000000e+00</td>\n",
       "    </tr>\n",
       "    <tr>\n",
       "      <th>75%</th>\n",
       "      <td>2.565812e+06</td>\n",
       "      <td>1.543850e+05</td>\n",
       "      <td>2.300000e+01</td>\n",
       "      <td>5.000000e+00</td>\n",
       "      <td>1.600000e+01</td>\n",
       "      <td>1.500000e+01</td>\n",
       "    </tr>\n",
       "    <tr>\n",
       "      <th>max</th>\n",
       "      <td>3.421083e+06</td>\n",
       "      <td>2.062090e+05</td>\n",
       "      <td>1.000000e+02</td>\n",
       "      <td>6.000000e+00</td>\n",
       "      <td>2.300000e+01</td>\n",
       "      <td>3.000000e+01</td>\n",
       "    </tr>\n",
       "  </tbody>\n",
       "</table>\n",
       "</div>"
      ],
      "text/plain": [
       "           order_id       user_id  order_number     order_dow  \\\n",
       "count  3.421083e+06  3.421083e+06  3.421083e+06  3.421083e+06   \n",
       "mean   1.710542e+06  1.029782e+05  1.715486e+01  2.776219e+00   \n",
       "std    9.875817e+05  5.953372e+04  1.773316e+01  2.046829e+00   \n",
       "min    1.000000e+00  1.000000e+00  1.000000e+00  0.000000e+00   \n",
       "25%    8.552715e+05  5.139400e+04  5.000000e+00  1.000000e+00   \n",
       "50%    1.710542e+06  1.026890e+05  1.100000e+01  3.000000e+00   \n",
       "75%    2.565812e+06  1.543850e+05  2.300000e+01  5.000000e+00   \n",
       "max    3.421083e+06  2.062090e+05  1.000000e+02  6.000000e+00   \n",
       "\n",
       "       order_hour_of_day  days_since_prior_order  \n",
       "count       3.421083e+06            3.214874e+06  \n",
       "mean        1.345202e+01            1.111484e+01  \n",
       "std         4.226088e+00            9.206737e+00  \n",
       "min         0.000000e+00            0.000000e+00  \n",
       "25%         1.000000e+01            4.000000e+00  \n",
       "50%         1.300000e+01            7.000000e+00  \n",
       "75%         1.600000e+01            1.500000e+01  \n",
       "max         2.300000e+01            3.000000e+01  "
      ]
     },
     "execution_count": 25,
     "metadata": {},
     "output_type": "execute_result"
    }
   ],
   "source": [
    "orders.describe()"
   ]
  },
  {
   "cell_type": "code",
   "execution_count": 26,
   "id": "cubic-complaint",
   "metadata": {},
   "outputs": [
    {
     "data": {
      "application/javascript": [
       "\n",
       "        if (window._pyforest_update_imports_cell) { window._pyforest_update_imports_cell('import pandas as pd'); }\n",
       "    "
      ],
      "text/plain": [
       "<IPython.core.display.Javascript object>"
      ]
     },
     "metadata": {},
     "output_type": "display_data"
    },
    {
     "data": {
      "text/html": [
       "<div>\n",
       "<style scoped>\n",
       "    .dataframe tbody tr th:only-of-type {\n",
       "        vertical-align: middle;\n",
       "    }\n",
       "\n",
       "    .dataframe tbody tr th {\n",
       "        vertical-align: top;\n",
       "    }\n",
       "\n",
       "    .dataframe thead th {\n",
       "        text-align: right;\n",
       "    }\n",
       "</style>\n",
       "<table border=\"1\" class=\"dataframe\">\n",
       "  <thead>\n",
       "    <tr style=\"text-align: right;\">\n",
       "      <th></th>\n",
       "      <th>product_id</th>\n",
       "      <th>product_name</th>\n",
       "      <th>aisle_id</th>\n",
       "      <th>department_id</th>\n",
       "      <th>department</th>\n",
       "    </tr>\n",
       "  </thead>\n",
       "  <tbody>\n",
       "    <tr>\n",
       "      <th>0</th>\n",
       "      <td>1</td>\n",
       "      <td>Chocolate Sandwich Cookies</td>\n",
       "      <td>61</td>\n",
       "      <td>19</td>\n",
       "      <td>snacks</td>\n",
       "    </tr>\n",
       "    <tr>\n",
       "      <th>1</th>\n",
       "      <td>16</td>\n",
       "      <td>Mint Chocolate Flavored Syrup</td>\n",
       "      <td>103</td>\n",
       "      <td>19</td>\n",
       "      <td>snacks</td>\n",
       "    </tr>\n",
       "    <tr>\n",
       "      <th>2</th>\n",
       "      <td>25</td>\n",
       "      <td>Salted Caramel Lean Protein &amp; Fiber Bar</td>\n",
       "      <td>3</td>\n",
       "      <td>19</td>\n",
       "      <td>snacks</td>\n",
       "    </tr>\n",
       "    <tr>\n",
       "      <th>3</th>\n",
       "      <td>32</td>\n",
       "      <td>Nacho Cheese White Bean Chips</td>\n",
       "      <td>107</td>\n",
       "      <td>19</td>\n",
       "      <td>snacks</td>\n",
       "    </tr>\n",
       "    <tr>\n",
       "      <th>4</th>\n",
       "      <td>41</td>\n",
       "      <td>Organic Sourdough Einkorn Crackers Rosemary</td>\n",
       "      <td>78</td>\n",
       "      <td>19</td>\n",
       "      <td>snacks</td>\n",
       "    </tr>\n",
       "  </tbody>\n",
       "</table>\n",
       "</div>"
      ],
      "text/plain": [
       "   product_id                                 product_name  aisle_id  \\\n",
       "0           1                   Chocolate Sandwich Cookies        61   \n",
       "1          16                Mint Chocolate Flavored Syrup       103   \n",
       "2          25      Salted Caramel Lean Protein & Fiber Bar         3   \n",
       "3          32                Nacho Cheese White Bean Chips       107   \n",
       "4          41  Organic Sourdough Einkorn Crackers Rosemary        78   \n",
       "\n",
       "   department_id department  \n",
       "0             19     snacks  \n",
       "1             19     snacks  \n",
       "2             19     snacks  \n",
       "3             19     snacks  \n",
       "4             19     snacks  "
      ]
     },
     "metadata": {},
     "output_type": "display_data"
    },
    {
     "data": {
      "image/png": "[encoded data removed]",
      "text/plain": [
       "<Figure size 360x360 with 1 Axes>"
      ]
     },
     "metadata": {
      "needs_background": "light"
     },
     "output_type": "display_data"
    }
   ],
   "source": [
    "df1 = pd.merge(products,departments,on = 'department_id')\n",
    "display(df1.head())\n",
    "\n",
    "plt.figure(figsize =(5,5))\n",
    "plt.xticks(rotation = 90)\n",
    "ax = sns.barplot(x = 'department',y ='aisle_id' ,data = df1)\n"
   ]
  },
  {
   "cell_type": "markdown",
   "id": "adolescent-skill",
   "metadata": {},
   "source": [
    "as we see above there is a wide variety of things that users want. Most notably is the babies and breakfast aisles that people order the most, even though they aren't surprising in the least. Babies need a lot of attention and it is hard to go out to the stores when taking care of them and with the breakfast aisle who really wants to go out everyday and get breakfast . the missing section is pretty large too and I assume that it is mostly for things that they couldn't classify in the 20 other categories. We will take a look at that next"
   ]
  },
  {
   "cell_type": "code",
   "execution_count": 27,
   "id": "seeing-trance",
   "metadata": {},
   "outputs": [
    {
     "data": {
      "text/html": [
       "<div>\n",
       "<style scoped>\n",
       "    .dataframe tbody tr th:only-of-type {\n",
       "        vertical-align: middle;\n",
       "    }\n",
       "\n",
       "    .dataframe tbody tr th {\n",
       "        vertical-align: top;\n",
       "    }\n",
       "\n",
       "    .dataframe thead th {\n",
       "        text-align: right;\n",
       "    }\n",
       "</style>\n",
       "<table border=\"1\" class=\"dataframe\">\n",
       "  <thead>\n",
       "    <tr style=\"text-align: right;\">\n",
       "      <th></th>\n",
       "      <th>product_id</th>\n",
       "      <th>product_name</th>\n",
       "      <th>aisle_id</th>\n",
       "      <th>department_id</th>\n",
       "      <th>department</th>\n",
       "    </tr>\n",
       "  </thead>\n",
       "  <tbody>\n",
       "    <tr>\n",
       "      <th>42813</th>\n",
       "      <td>38</td>\n",
       "      <td>Ultra Antibacterial Dish Liquid</td>\n",
       "      <td>100</td>\n",
       "      <td>21</td>\n",
       "      <td>missing</td>\n",
       "    </tr>\n",
       "    <tr>\n",
       "      <th>42814</th>\n",
       "      <td>72</td>\n",
       "      <td>Organic Honeycrisp Apples</td>\n",
       "      <td>100</td>\n",
       "      <td>21</td>\n",
       "      <td>missing</td>\n",
       "    </tr>\n",
       "    <tr>\n",
       "      <th>42815</th>\n",
       "      <td>110</td>\n",
       "      <td>Uncured Turkey Bologna</td>\n",
       "      <td>100</td>\n",
       "      <td>21</td>\n",
       "      <td>missing</td>\n",
       "    </tr>\n",
       "    <tr>\n",
       "      <th>42816</th>\n",
       "      <td>297</td>\n",
       "      <td>Write Bros Ball Point Pens, Cap-Pen, Medium (1...</td>\n",
       "      <td>100</td>\n",
       "      <td>21</td>\n",
       "      <td>missing</td>\n",
       "    </tr>\n",
       "    <tr>\n",
       "      <th>42817</th>\n",
       "      <td>417</td>\n",
       "      <td>Classics Baby Binks Easter Chocolate Bunny</td>\n",
       "      <td>100</td>\n",
       "      <td>21</td>\n",
       "      <td>missing</td>\n",
       "    </tr>\n",
       "    <tr>\n",
       "      <th>42818</th>\n",
       "      <td>437</td>\n",
       "      <td>Strawberry Cheesecake Nonfat Yogurt</td>\n",
       "      <td>100</td>\n",
       "      <td>21</td>\n",
       "      <td>missing</td>\n",
       "    </tr>\n",
       "    <tr>\n",
       "      <th>42819</th>\n",
       "      <td>440</td>\n",
       "      <td>Crossovers Olive Thyme Almond</td>\n",
       "      <td>100</td>\n",
       "      <td>21</td>\n",
       "      <td>missing</td>\n",
       "    </tr>\n",
       "    <tr>\n",
       "      <th>42820</th>\n",
       "      <td>472</td>\n",
       "      <td>Fancy Diced Hot Chilies</td>\n",
       "      <td>100</td>\n",
       "      <td>21</td>\n",
       "      <td>missing</td>\n",
       "    </tr>\n",
       "    <tr>\n",
       "      <th>42821</th>\n",
       "      <td>491</td>\n",
       "      <td>Pompelmo Water</td>\n",
       "      <td>100</td>\n",
       "      <td>21</td>\n",
       "      <td>missing</td>\n",
       "    </tr>\n",
       "    <tr>\n",
       "      <th>42822</th>\n",
       "      <td>556</td>\n",
       "      <td>Bake &amp; Break Cheese Garlic Loaf</td>\n",
       "      <td>100</td>\n",
       "      <td>21</td>\n",
       "      <td>missing</td>\n",
       "    </tr>\n",
       "    <tr>\n",
       "      <th>42823</th>\n",
       "      <td>562</td>\n",
       "      <td>Traditional Tartar Sauce</td>\n",
       "      <td>100</td>\n",
       "      <td>21</td>\n",
       "      <td>missing</td>\n",
       "    </tr>\n",
       "    <tr>\n",
       "      <th>42824</th>\n",
       "      <td>614</td>\n",
       "      <td>Plain Dairy-Free Probiotic Drinkable Cashewgurt</td>\n",
       "      <td>100</td>\n",
       "      <td>21</td>\n",
       "      <td>missing</td>\n",
       "    </tr>\n",
       "    <tr>\n",
       "      <th>42825</th>\n",
       "      <td>624</td>\n",
       "      <td>Chub Chorizo</td>\n",
       "      <td>100</td>\n",
       "      <td>21</td>\n",
       "      <td>missing</td>\n",
       "    </tr>\n",
       "    <tr>\n",
       "      <th>42826</th>\n",
       "      <td>690</td>\n",
       "      <td>Vegetable Hearty Garden Soup</td>\n",
       "      <td>100</td>\n",
       "      <td>21</td>\n",
       "      <td>missing</td>\n",
       "    </tr>\n",
       "    <tr>\n",
       "      <th>42827</th>\n",
       "      <td>768</td>\n",
       "      <td>Nacho Grain-Free Tortilla Chips</td>\n",
       "      <td>100</td>\n",
       "      <td>21</td>\n",
       "      <td>missing</td>\n",
       "    </tr>\n",
       "    <tr>\n",
       "      <th>42828</th>\n",
       "      <td>804</td>\n",
       "      <td>Ratatouille</td>\n",
       "      <td>100</td>\n",
       "      <td>21</td>\n",
       "      <td>missing</td>\n",
       "    </tr>\n",
       "    <tr>\n",
       "      <th>42829</th>\n",
       "      <td>891</td>\n",
       "      <td>Liquid Water Enhance Ice Van Java</td>\n",
       "      <td>100</td>\n",
       "      <td>21</td>\n",
       "      <td>missing</td>\n",
       "    </tr>\n",
       "    <tr>\n",
       "      <th>42830</th>\n",
       "      <td>991</td>\n",
       "      <td>Red Sweet Mini Pepper</td>\n",
       "      <td>100</td>\n",
       "      <td>21</td>\n",
       "      <td>missing</td>\n",
       "    </tr>\n",
       "    <tr>\n",
       "      <th>42831</th>\n",
       "      <td>1019</td>\n",
       "      <td>Spicy Bbq Chicken Soup</td>\n",
       "      <td>100</td>\n",
       "      <td>21</td>\n",
       "      <td>missing</td>\n",
       "    </tr>\n",
       "    <tr>\n",
       "      <th>42832</th>\n",
       "      <td>1055</td>\n",
       "      <td>Naturals Grilled Chicken Nugget</td>\n",
       "      <td>100</td>\n",
       "      <td>21</td>\n",
       "      <td>missing</td>\n",
       "    </tr>\n",
       "    <tr>\n",
       "      <th>42833</th>\n",
       "      <td>1218</td>\n",
       "      <td>Buffalo Style Chicken Wrap</td>\n",
       "      <td>100</td>\n",
       "      <td>21</td>\n",
       "      <td>missing</td>\n",
       "    </tr>\n",
       "    <tr>\n",
       "      <th>42834</th>\n",
       "      <td>1283</td>\n",
       "      <td>Organic Edamame &amp; Mung Bean Fettuccine</td>\n",
       "      <td>100</td>\n",
       "      <td>21</td>\n",
       "      <td>missing</td>\n",
       "    </tr>\n",
       "    <tr>\n",
       "      <th>42835</th>\n",
       "      <td>1302</td>\n",
       "      <td>Natural Orange Flavor Liquid Sublingual Melatonin</td>\n",
       "      <td>100</td>\n",
       "      <td>21</td>\n",
       "      <td>missing</td>\n",
       "    </tr>\n",
       "    <tr>\n",
       "      <th>42836</th>\n",
       "      <td>1387</td>\n",
       "      <td>White Apple Cauliflower &amp; Leek Organic Baby Food</td>\n",
       "      <td>100</td>\n",
       "      <td>21</td>\n",
       "      <td>missing</td>\n",
       "    </tr>\n",
       "    <tr>\n",
       "      <th>42837</th>\n",
       "      <td>1548</td>\n",
       "      <td>Organic Vanilla Soy Milk</td>\n",
       "      <td>100</td>\n",
       "      <td>21</td>\n",
       "      <td>missing</td>\n",
       "    </tr>\n",
       "  </tbody>\n",
       "</table>\n",
       "</div>"
      ],
      "text/plain": [
       "       product_id                                       product_name  \\\n",
       "42813          38                    Ultra Antibacterial Dish Liquid   \n",
       "42814          72                          Organic Honeycrisp Apples   \n",
       "42815         110                             Uncured Turkey Bologna   \n",
       "42816         297  Write Bros Ball Point Pens, Cap-Pen, Medium (1...   \n",
       "42817         417         Classics Baby Binks Easter Chocolate Bunny   \n",
       "42818         437                Strawberry Cheesecake Nonfat Yogurt   \n",
       "42819         440                      Crossovers Olive Thyme Almond   \n",
       "42820         472                            Fancy Diced Hot Chilies   \n",
       "42821         491                                     Pompelmo Water   \n",
       "42822         556                    Bake & Break Cheese Garlic Loaf   \n",
       "42823         562                           Traditional Tartar Sauce   \n",
       "42824         614    Plain Dairy-Free Probiotic Drinkable Cashewgurt   \n",
       "42825         624                                       Chub Chorizo   \n",
       "42826         690                       Vegetable Hearty Garden Soup   \n",
       "42827         768                    Nacho Grain-Free Tortilla Chips   \n",
       "42828         804                                        Ratatouille   \n",
       "42829         891                  Liquid Water Enhance Ice Van Java   \n",
       "42830         991                              Red Sweet Mini Pepper   \n",
       "42831        1019                             Spicy Bbq Chicken Soup   \n",
       "42832        1055                    Naturals Grilled Chicken Nugget   \n",
       "42833        1218                         Buffalo Style Chicken Wrap   \n",
       "42834        1283             Organic Edamame & Mung Bean Fettuccine   \n",
       "42835        1302  Natural Orange Flavor Liquid Sublingual Melatonin   \n",
       "42836        1387   White Apple Cauliflower & Leek Organic Baby Food   \n",
       "42837        1548                           Organic Vanilla Soy Milk   \n",
       "\n",
       "       aisle_id  department_id department  \n",
       "42813       100             21    missing  \n",
       "42814       100             21    missing  \n",
       "42815       100             21    missing  \n",
       "42816       100             21    missing  \n",
       "42817       100             21    missing  \n",
       "42818       100             21    missing  \n",
       "42819       100             21    missing  \n",
       "42820       100             21    missing  \n",
       "42821       100             21    missing  \n",
       "42822       100             21    missing  \n",
       "42823       100             21    missing  \n",
       "42824       100             21    missing  \n",
       "42825       100             21    missing  \n",
       "42826       100             21    missing  \n",
       "42827       100             21    missing  \n",
       "42828       100             21    missing  \n",
       "42829       100             21    missing  \n",
       "42830       100             21    missing  \n",
       "42831       100             21    missing  \n",
       "42832       100             21    missing  \n",
       "42833       100             21    missing  \n",
       "42834       100             21    missing  \n",
       "42835       100             21    missing  \n",
       "42836       100             21    missing  \n",
       "42837       100             21    missing  "
      ]
     },
     "execution_count": 27,
     "metadata": {},
     "output_type": "execute_result"
    }
   ],
   "source": [
    "missing = df1[df1['department']=='missing']\n",
    "missing.head(25)"
   ]
  },
  {
   "cell_type": "markdown",
   "id": "distinguished-ballot",
   "metadata": {},
   "source": [
    "\n",
    "Looking at the data inside of the missing category it looks like it is a bunch of different items from different categories that the data was not able to find the correct departments"
   ]
  },
  {
   "cell_type": "code",
   "execution_count": 28,
   "id": "regional-cleveland",
   "metadata": {},
   "outputs": [
    {
     "data": {
      "text/html": [
       "<div>\n",
       "<style scoped>\n",
       "    .dataframe tbody tr th:only-of-type {\n",
       "        vertical-align: middle;\n",
       "    }\n",
       "\n",
       "    .dataframe tbody tr th {\n",
       "        vertical-align: top;\n",
       "    }\n",
       "\n",
       "    .dataframe thead th {\n",
       "        text-align: right;\n",
       "    }\n",
       "</style>\n",
       "<table border=\"1\" class=\"dataframe\">\n",
       "  <thead>\n",
       "    <tr style=\"text-align: right;\">\n",
       "      <th></th>\n",
       "      <th>order_id</th>\n",
       "      <th>product_id</th>\n",
       "      <th>add_to_cart_order</th>\n",
       "      <th>reordered</th>\n",
       "    </tr>\n",
       "  </thead>\n",
       "  <tbody>\n",
       "    <tr>\n",
       "      <th>0</th>\n",
       "      <td>2</td>\n",
       "      <td>33120</td>\n",
       "      <td>1</td>\n",
       "      <td>1</td>\n",
       "    </tr>\n",
       "    <tr>\n",
       "      <th>1</th>\n",
       "      <td>2</td>\n",
       "      <td>28985</td>\n",
       "      <td>2</td>\n",
       "      <td>1</td>\n",
       "    </tr>\n",
       "    <tr>\n",
       "      <th>2</th>\n",
       "      <td>2</td>\n",
       "      <td>9327</td>\n",
       "      <td>3</td>\n",
       "      <td>0</td>\n",
       "    </tr>\n",
       "    <tr>\n",
       "      <th>3</th>\n",
       "      <td>2</td>\n",
       "      <td>45918</td>\n",
       "      <td>4</td>\n",
       "      <td>1</td>\n",
       "    </tr>\n",
       "    <tr>\n",
       "      <th>4</th>\n",
       "      <td>2</td>\n",
       "      <td>30035</td>\n",
       "      <td>5</td>\n",
       "      <td>0</td>\n",
       "    </tr>\n",
       "  </tbody>\n",
       "</table>\n",
       "</div>"
      ],
      "text/plain": [
       "   order_id  product_id  add_to_cart_order  reordered\n",
       "0         2       33120                  1          1\n",
       "1         2       28985                  2          1\n",
       "2         2        9327                  3          0\n",
       "3         2       45918                  4          1\n",
       "4         2       30035                  5          0"
      ]
     },
     "execution_count": 28,
     "metadata": {},
     "output_type": "execute_result"
    }
   ],
   "source": [
    "orders_prior.head()"
   ]
  },
  {
   "cell_type": "code",
   "execution_count": 29,
   "id": "offensive-drink",
   "metadata": {},
   "outputs": [
    {
     "data": {
      "text/html": [
       "<div>\n",
       "<style scoped>\n",
       "    .dataframe tbody tr th:only-of-type {\n",
       "        vertical-align: middle;\n",
       "    }\n",
       "\n",
       "    .dataframe tbody tr th {\n",
       "        vertical-align: top;\n",
       "    }\n",
       "\n",
       "    .dataframe thead th {\n",
       "        text-align: right;\n",
       "    }\n",
       "</style>\n",
       "<table border=\"1\" class=\"dataframe\">\n",
       "  <thead>\n",
       "    <tr style=\"text-align: right;\">\n",
       "      <th></th>\n",
       "      <th>order_id</th>\n",
       "      <th>user_id</th>\n",
       "      <th>eval_set</th>\n",
       "      <th>order_number</th>\n",
       "      <th>order_dow</th>\n",
       "      <th>order_hour_of_day</th>\n",
       "      <th>days_since_prior_order</th>\n",
       "    </tr>\n",
       "  </thead>\n",
       "  <tbody>\n",
       "    <tr>\n",
       "      <th>0</th>\n",
       "      <td>2539329</td>\n",
       "      <td>1</td>\n",
       "      <td>prior</td>\n",
       "      <td>1</td>\n",
       "      <td>2</td>\n",
       "      <td>8</td>\n",
       "      <td>NaN</td>\n",
       "    </tr>\n",
       "    <tr>\n",
       "      <th>1</th>\n",
       "      <td>2398795</td>\n",
       "      <td>1</td>\n",
       "      <td>prior</td>\n",
       "      <td>2</td>\n",
       "      <td>3</td>\n",
       "      <td>7</td>\n",
       "      <td>15.0</td>\n",
       "    </tr>\n",
       "    <tr>\n",
       "      <th>2</th>\n",
       "      <td>473747</td>\n",
       "      <td>1</td>\n",
       "      <td>prior</td>\n",
       "      <td>3</td>\n",
       "      <td>3</td>\n",
       "      <td>12</td>\n",
       "      <td>21.0</td>\n",
       "    </tr>\n",
       "    <tr>\n",
       "      <th>3</th>\n",
       "      <td>2254736</td>\n",
       "      <td>1</td>\n",
       "      <td>prior</td>\n",
       "      <td>4</td>\n",
       "      <td>4</td>\n",
       "      <td>7</td>\n",
       "      <td>29.0</td>\n",
       "    </tr>\n",
       "    <tr>\n",
       "      <th>4</th>\n",
       "      <td>431534</td>\n",
       "      <td>1</td>\n",
       "      <td>prior</td>\n",
       "      <td>5</td>\n",
       "      <td>4</td>\n",
       "      <td>15</td>\n",
       "      <td>28.0</td>\n",
       "    </tr>\n",
       "  </tbody>\n",
       "</table>\n",
       "</div>"
      ],
      "text/plain": [
       "   order_id  user_id eval_set  order_number  order_dow  order_hour_of_day  \\\n",
       "0   2539329        1    prior             1          2                  8   \n",
       "1   2398795        1    prior             2          3                  7   \n",
       "2    473747        1    prior             3          3                 12   \n",
       "3   2254736        1    prior             4          4                  7   \n",
       "4    431534        1    prior             5          4                 15   \n",
       "\n",
       "   days_since_prior_order  \n",
       "0                     NaN  \n",
       "1                    15.0  \n",
       "2                    21.0  \n",
       "3                    29.0  \n",
       "4                    28.0  "
      ]
     },
     "execution_count": 29,
     "metadata": {},
     "output_type": "execute_result"
    }
   ],
   "source": [
    "orders.head()"
   ]
  },
  {
   "cell_type": "code",
   "execution_count": 30,
   "id": "alike-stuff",
   "metadata": {},
   "outputs": [
    {
     "data": {
      "image/png": "[encoded data removed]",
      "text/plain": [
       "<Figure size 720x720 with 1 Axes>"
      ]
     },
     "metadata": {
      "needs_background": "light"
     },
     "output_type": "display_data"
    }
   ],
   "source": [
    "orders.head()\n",
    "orders = orders.fillna(0)\n",
    "time_df = orders.groupby('order_hour_of_day')['order_id'].sum().reset_index()\n",
    "plt.figure(figsize = (10,10))\n",
    "plots = sns.barplot(x ='order_hour_of_day',y = 'order_id',data = time_df)\n",
    "plots.set(xlabel = 'Orders by hour',ylabel = '')\n",
    "plt.savefig('Pictures/order_hour.jpeg')"
   ]
  },
  {
   "cell_type": "markdown",
   "id": "controlled-poison",
   "metadata": {},
   "source": [
    "As we see above the most orders that people make are within business hours. That would be a normal thing in my eyes because all stores are open in the time frame of 6 am to about 10 pm. Even though most stores aren't open in the times between 11 pm to 5 am that wouldn't stop people from ordering since when the stores first open up their orders will be done by the time the morning rush hits."
   ]
  },
  {
   "cell_type": "code",
   "execution_count": 31,
   "id": "adverse-sunset",
   "metadata": {},
   "outputs": [
    {
     "data": {
      "image/png": "[encoded data removed]",
      "text/plain": [
       "<Figure size 720x720 with 1 Axes>"
      ]
     },
     "metadata": {
      "needs_background": "light"
     },
     "output_type": "display_data"
    }
   ],
   "source": [
    "older_orders = orders.groupby('days_since_prior_order')['order_id'].sum().reset_index()\n",
    "plt.figure(figsize = (10,10))\n",
    "plt.xticks(rotation = 90)\n",
    "plots =sns.barplot(x = 'days_since_prior_order',y='order_id',data = older_orders)\n",
    "plots.set(xlabel = 'Days since prior order',ylabel = \" \")\n",
    "plt.savefig('Pictures/Days_since_prior_order.jpeg',bbox_inches = 'tight')"
   ]
  },
  {
   "cell_type": "markdown",
   "id": "sporting-lying",
   "metadata": {},
   "source": [
    "as we can see, a lot of people make orders going from the last day of the month into the first week of the month. This is logical considering that it is easier to just get everything at the beginning of the month and just order what you need throughout the rest of the month when the items are used up"
   ]
  },
  {
   "cell_type": "markdown",
   "id": "covered-scott",
   "metadata": {},
   "source": [
    "## Data Check\n",
    "with the preliminary checks of the datasets done we will be going into looking at the entirety of the dataset. Initially I am interested in the data about the departments and aisles in regards to what products are most popular."
   ]
  },
  {
   "cell_type": "markdown",
   "id": "structural-occasions",
   "metadata": {},
   "source": [
    "Checking the top 10 departments of the data"
   ]
  },
  {
   "cell_type": "code",
   "execution_count": 32,
   "id": "streaming-complaint",
   "metadata": {},
   "outputs": [
    {
     "data": {
      "image/png": "[encoded data removed]",
      "text/plain": [
       "<Figure size 720x720 with 1 Axes>"
      ]
     },
     "metadata": {
      "needs_background": "light"
     },
     "output_type": "display_data"
    }
   ],
   "source": [
    "department_share = grocery.groupby('department')['add_to_cart_order'].sum().sort_values(ascending = False).reset_index()[0:10]\n",
    "plt.figure(figsize = (10,10))\n",
    "plt.xticks(rotation = 90)\n",
    "\n",
    "ax = sns.barplot(x ='department',y = 'add_to_cart_order' ,data = department_share)\n",
    "ax.set(xlabel = 'Department',ylabel = 'Order Amount')\n",
    "plt.savefig('Pictures/Departments.png')"
   ]
  },
  {
   "cell_type": "markdown",
   "id": "genetic-plymouth",
   "metadata": {},
   "source": [
    "Checking to see the percentage of each departments according to sales"
   ]
  },
  {
   "cell_type": "code",
   "execution_count": 33,
   "id": "metric-criterion",
   "metadata": {},
   "outputs": [
    {
     "data": {
      "image/png": "[encoded data removed]",
      "text/plain": [
       "<Figure size 432x288 with 1 Axes>"
      ]
     },
     "metadata": {
      "needs_background": "light"
     },
     "output_type": "display_data"
    }
   ],
   "source": [
    "depart = grocery.groupby('department')['add_to_cart_order'].sum().reset_index()\n",
    "depart['sales_percentage'] = depart['add_to_cart_order']\n",
    "depart['sales_percentage'] = depart['sales_percentage'].apply(lambda x:x /depart['add_to_cart_order'].sum())\n",
    "\n",
    "plots = sns.barplot(data = depart.sort_values(by = 'sales_percentage',ascending = False),x = 'department',y = 'sales_percentage')\n",
    "plt.xticks(rotation = 90)\n",
    "plots.set(xlabel = 'Departments',ylabel = 'Department Shares')\n",
    "plt.savefig('Pictures/Department_percentages.jpeg',bbox_inches='tight')"
   ]
  },
  {
   "cell_type": "markdown",
   "id": "sophisticated-withdrawal",
   "metadata": {},
   "source": [
    "Popular aisles based on orders"
   ]
  },
  {
   "cell_type": "code",
   "execution_count": 34,
   "id": "civic-framework",
   "metadata": {},
   "outputs": [
    {
     "data": {
      "image/png": "[encoded data removed]",
      "text/plain": [
       "<Figure size 1080x1080 with 1 Axes>"
      ]
     },
     "metadata": {
      "needs_background": "light"
     },
     "output_type": "display_data"
    }
   ],
   "source": [
    "plt.figure(figsize = (15,15))\n",
    "x = sns.barplot(data = grocery.groupby('aisle')['add_to_cart_order'].sum().sort_values(ascending = False)\n",
    "                .sort_values(ascending = False).reset_index()[0:10],x = 'aisle',y ='add_to_cart_order')\n",
    "plt.xticks(rotation = 90)\n",
    "\n",
    "x.set(xlabel = 'Aisles',ylabel = 'Ordered Units')\n",
    "plt.savefig('Pictures/Products.png',bbox_inches='tight')"
   ]
  },
  {
   "cell_type": "markdown",
   "id": "pacific-valley",
   "metadata": {},
   "source": [
    "Top 30 most purchased product by name"
   ]
  },
  {
   "cell_type": "code",
   "execution_count": 35,
   "id": "toxic-browse",
   "metadata": {},
   "outputs": [
    {
     "data": {
      "image/png": "[encoded data removed]",
      "text/plain": [
       "<Figure size 1080x1080 with 1 Axes>"
      ]
     },
     "metadata": {
      "needs_background": "light"
     },
     "output_type": "display_data"
    }
   ],
   "source": [
    "aisl = grocery.groupby('department')['add_to_cart_order'].sum().reset_index()\n",
    "aisl['sales_percentage'] = aisl['add_to_cart_order']\n",
    "aisl['sales_percentage'] = aisl['sales_percentage'].apply(lambda x:x /aisl['add_to_cart_order'].sum())\n",
    "plt.figure(figsize = (15,15))\n",
    "plot = sns.barplot(data = aisl.sort_values(by = 'sales_percentage',ascending = False)[0:30],x = 'department',y = 'sales_percentage')\n",
    "\n",
    "plt.xticks(rotation = 90)\n",
    "plot.set(xlabel = 'Products',ylabel = 'Product Shares')\n",
    "plt.savefig('Pictures/Products_percentages.png',bbox_inches='tight')"
   ]
  },
  {
   "cell_type": "markdown",
   "id": "suspected-object",
   "metadata": {},
   "source": [
    "### Distribution of orders by customers"
   ]
  },
  {
   "cell_type": "code",
   "execution_count": 36,
   "id": "moved-measure",
   "metadata": {},
   "outputs": [
    {
     "data": {
      "text/plain": [
       "count    82019.000000\n",
       "mean         1.772480\n",
       "std          1.302103\n",
       "min          1.000000\n",
       "25%          1.000000\n",
       "50%          1.000000\n",
       "75%          2.000000\n",
       "max         18.000000\n",
       "Name: order_id, dtype: float64"
      ]
     },
     "execution_count": 36,
     "metadata": {},
     "output_type": "execute_result"
    }
   ],
   "source": [
    "grocery.groupby('user_id')['order_id'].nunique().describe()"
   ]
  },
  {
   "cell_type": "code",
   "execution_count": 37,
   "id": "nearby-terry",
   "metadata": {},
   "outputs": [
    {
     "data": {
      "text/plain": [
       "[Text(0.5, 0, 'Orders by User')]"
      ]
     },
     "execution_count": 37,
     "metadata": {},
     "output_type": "execute_result"
    },
    {
     "data": {
      "image/png": "[encoded data removed]",
      "text/plain": [
       "<Figure size 432x288 with 1 Axes>"
      ]
     },
     "metadata": {
      "needs_background": "light"
     },
     "output_type": "display_data"
    }
   ],
   "source": [
    "x = sns.distplot(grocery.groupby('user_id')['order_id'].nunique())\n",
    "x.set(xlabel = 'Orders by User')"
   ]
  },
  {
   "cell_type": "code",
   "execution_count": 38,
   "id": "legendary-beast",
   "metadata": {},
   "outputs": [
    {
     "data": {
      "text/plain": [
       "[Text(0.5, 0, 'Units ordered by User')]"
      ]
     },
     "execution_count": 38,
     "metadata": {},
     "output_type": "execute_result"
    },
    {
     "data": {
      "image/png": "[encoded data removed]",
      "text/plain": [
       "<Figure size 432x288 with 1 Axes>"
      ]
     },
     "metadata": {
      "needs_background": "light"
     },
     "output_type": "display_data"
    }
   ],
   "source": [
    "#number of products ordered by user over the year\n",
    "x = sns.distplot(grocery.groupby('user_id')['add_to_cart_order'].sum())\n",
    "x.set(xlabel = 'Units ordered by User')"
   ]
  },
  {
   "cell_type": "code",
   "execution_count": 39,
   "id": "arranged-domestic",
   "metadata": {},
   "outputs": [
    {
     "data": {
      "text/plain": [
       "count    145377.000000\n",
       "mean          8.652889\n",
       "std           7.831434\n",
       "min           1.000000\n",
       "25%           3.000000\n",
       "50%           6.000000\n",
       "75%          12.000000\n",
       "max         152.000000\n",
       "Name: add_to_cart_order, dtype: float64"
      ]
     },
     "execution_count": 39,
     "metadata": {},
     "output_type": "execute_result"
    }
   ],
   "source": [
    "#order size summary\n",
    "grocery.groupby('order_id')['add_to_cart_order'].sum().describe()"
   ]
  },
  {
   "cell_type": "code",
   "execution_count": 40,
   "id": "civil-remedy",
   "metadata": {},
   "outputs": [
    {
     "data": {
      "text/plain": [
       "[Text(0.5, 0, 'Units per order')]"
      ]
     },
     "execution_count": 40,
     "metadata": {},
     "output_type": "execute_result"
    },
    {
     "data": {
      "image/png": "[encoded data removed]",
      "text/plain": [
       "<Figure size 432x288 with 1 Axes>"
      ]
     },
     "metadata": {
      "needs_background": "light"
     },
     "output_type": "display_data"
    }
   ],
   "source": [
    "# number of unites per order over view\n",
    "\n",
    "x = sns.distplot(grocery.groupby('order_id')['add_to_cart_order'].sum())\n",
    "x.set(xlabel='Units per order')"
   ]
  },
  {
   "cell_type": "code",
   "execution_count": 41,
   "id": "neither-spanish",
   "metadata": {},
   "outputs": [
    {
     "data": {
      "text/plain": [
       "[Text(0.5, 0, 'Units per order')]"
      ]
     },
     "execution_count": 41,
     "metadata": {},
     "output_type": "execute_result"
    },
    {
     "data": {
      "image/png": "[encoded data removed]",
      "text/plain": [
       "<Figure size 432x288 with 1 Axes>"
      ]
     },
     "metadata": {
      "needs_background": "light"
     },
     "output_type": "display_data"
    }
   ],
   "source": [
    "order_size = grocery.groupby('order_id')['add_to_cart_order'].sum().reset_index()\n",
    "\n",
    "x = sns.distplot(order_size[order_size.add_to_cart_order <500]['add_to_cart_order'],kde = False)\n",
    "x.set(xlabel = 'Units per order')"
   ]
  },
  {
   "cell_type": "code",
   "execution_count": 42,
   "id": "tamil-stopping",
   "metadata": {},
   "outputs": [
    {
     "data": {
      "text/plain": [
       "count    206209.000000\n",
       "mean         13.428600\n",
       "std           5.496185\n",
       "min           0.000000\n",
       "25%           9.000000\n",
       "50%          13.320000\n",
       "75%          17.687500\n",
       "max          27.000000\n",
       "Name: days_since_prior_order, dtype: float64"
      ]
     },
     "execution_count": 42,
     "metadata": {},
     "output_type": "execute_result"
    }
   ],
   "source": [
    "# order statistics\n",
    "\n",
    "orders.groupby('user_id')['days_since_prior_order'].mean().describe()"
   ]
  },
  {
   "cell_type": "code",
   "execution_count": 43,
   "id": "political-bones",
   "metadata": {},
   "outputs": [
    {
     "data": {
      "text/plain": [
       "[Text(0.5, 0, 'Average Days Between Orders By User')]"
      ]
     },
     "execution_count": 43,
     "metadata": {},
     "output_type": "execute_result"
    },
    {
     "data": {
      "image/png": "[encoded data removed]",
      "text/plain": [
       "<Figure size 432x288 with 1 Axes>"
      ]
     },
     "metadata": {
      "needs_background": "light"
     },
     "output_type": "display_data"
    }
   ],
   "source": [
    "# time between orders\n",
    "x = sns.distplot(orders.groupby('user_id')['days_since_prior_order'].mean())\n",
    "x.set(xlabel = 'Average Days Between Orders By User')"
   ]
  },
  {
   "cell_type": "markdown",
   "id": "veterinary-bernard",
   "metadata": {},
   "source": [
    "# Model:\n"
   ]
  },
  {
   "cell_type": "markdown",
   "id": "spare-bishop",
   "metadata": {},
   "source": [
    "## Model Preprocessing"
   ]
  },
  {
   "cell_type": "code",
   "execution_count": 44,
   "id": "indirect-gossip",
   "metadata": {},
   "outputs": [],
   "source": [
    "users_items = grocery[grocery.duplicated(subset = ['user_id','product_id'],keep = 'first')]\n",
    "#started at 9:20pm"
   ]
  },
  {
   "cell_type": "code",
   "execution_count": 45,
   "id": "spare-elements",
   "metadata": {},
   "outputs": [],
   "source": [
    "# data = []\n",
    "# columns = ['user_id','product_id','count']\n",
    "# for user in users_items.user_id.unique():\n",
    "#     counts = users_items[users_items['user_id'] == user].product_id.value_counts()\n",
    "#     for i in range(len(counts)):\n",
    "#         data.append([user,counts.index[i],counts.values[i]])\n",
    "\n",
    "\n",
    "#started at 9:25pm ended at 11:30 pm not going to run this again for sake of computational resources"
   ]
  },
  {
   "cell_type": "code",
   "execution_count": 46,
   "id": "conventional-nursing",
   "metadata": {},
   "outputs": [],
   "source": [
    "# rec_df = pd.DataFrame(data,columns = columns)\n",
    "# rec_df\n",
    "# rec_df.to_csv('rec_df.csv')"
   ]
  },
  {
   "cell_type": "code",
   "execution_count": 47,
   "id": "adapted-study",
   "metadata": {},
   "outputs": [
    {
     "data": {
      "application/javascript": [
       "\n",
       "        if (window._pyforest_update_imports_cell) { window._pyforest_update_imports_cell('import pandas as pd'); }\n",
       "    "
      ],
      "text/plain": [
       "<IPython.core.display.Javascript object>"
      ]
     },
     "metadata": {},
     "output_type": "display_data"
    }
   ],
   "source": [
    "rec_df = pd.read_csv('Application/rec_df.csv').sample(150000,random_state = 123)\n",
    "rec_df.drop(['Unnamed: 0'],axis = 1,inplace = True)"
   ]
  },
  {
   "cell_type": "code",
   "execution_count": 48,
   "id": "imperial-transsexual",
   "metadata": {},
   "outputs": [
    {
     "data": {
      "text/html": [
       "<div>\n",
       "<style scoped>\n",
       "    .dataframe tbody tr th:only-of-type {\n",
       "        vertical-align: middle;\n",
       "    }\n",
       "\n",
       "    .dataframe tbody tr th {\n",
       "        vertical-align: top;\n",
       "    }\n",
       "\n",
       "    .dataframe thead th {\n",
       "        text-align: right;\n",
       "    }\n",
       "</style>\n",
       "<table border=\"1\" class=\"dataframe\">\n",
       "  <thead>\n",
       "    <tr style=\"text-align: right;\">\n",
       "      <th></th>\n",
       "      <th>user_id</th>\n",
       "      <th>product_id</th>\n",
       "      <th>count</th>\n",
       "    </tr>\n",
       "  </thead>\n",
       "  <tbody>\n",
       "    <tr>\n",
       "      <th>3524309</th>\n",
       "      <td>142168</td>\n",
       "      <td>5876</td>\n",
       "      <td>3</td>\n",
       "    </tr>\n",
       "    <tr>\n",
       "      <th>2230406</th>\n",
       "      <td>124740</td>\n",
       "      <td>40706</td>\n",
       "      <td>2</td>\n",
       "    </tr>\n",
       "    <tr>\n",
       "      <th>2238939</th>\n",
       "      <td>199398</td>\n",
       "      <td>14531</td>\n",
       "      <td>1</td>\n",
       "    </tr>\n",
       "    <tr>\n",
       "      <th>3453532</th>\n",
       "      <td>153079</td>\n",
       "      <td>44091</td>\n",
       "      <td>1</td>\n",
       "    </tr>\n",
       "    <tr>\n",
       "      <th>885257</th>\n",
       "      <td>30822</td>\n",
       "      <td>23909</td>\n",
       "      <td>22</td>\n",
       "    </tr>\n",
       "  </tbody>\n",
       "</table>\n",
       "</div>"
      ],
      "text/plain": [
       "         user_id  product_id  count\n",
       "3524309   142168        5876      3\n",
       "2230406   124740       40706      2\n",
       "2238939   199398       14531      1\n",
       "3453532   153079       44091      1\n",
       "885257     30822       23909     22"
      ]
     },
     "execution_count": 48,
     "metadata": {},
     "output_type": "execute_result"
    }
   ],
   "source": [
    "rec_df.head()"
   ]
  },
  {
   "cell_type": "markdown",
   "id": "drawn-building",
   "metadata": {},
   "source": [
    "## Recommendation System\n",
    "for my computers computational sake I will be sampling the data at 150,000"
   ]
  },
  {
   "cell_type": "code",
   "execution_count": 49,
   "id": "restricted-promise",
   "metadata": {},
   "outputs": [],
   "source": [
    "from surprise import NormalPredictor\n",
    "from surprise import Dataset\n",
    "from surprise import Reader\n",
    "from surprise.model_selection import cross_validate\n",
    "from surprise import SVD\n",
    "from surprise import KNNBaseline\n",
    "from surprise import KNNBasic\n",
    "from surprise.model_selection import train_test_split\n",
    "from surprise.prediction_algorithms import knns\n",
    "from surprise.similarities import cosine, msd, pearson\n",
    "from surprise.prediction_algorithms import SVD, SVDpp\n",
    "from surprise.model_selection import GridSearchCV\n",
    "from surprise import accuracy"
   ]
  },
  {
   "cell_type": "code",
   "execution_count": 50,
   "id": "subtle-bearing",
   "metadata": {},
   "outputs": [],
   "source": [
    "reader = Reader(rating_scale=(1,100))\n",
    "rec_data = Dataset.load_from_df(rec_df,reader)\n",
    "\n",
    "trainset,testset = train_test_split(rec_data,test_size = .2, random_state = 123)"
   ]
  },
  {
   "cell_type": "code",
   "execution_count": 51,
   "id": "framed-gamma",
   "metadata": {},
   "outputs": [
    {
     "data": {
      "text/plain": [
       "<surprise.prediction_algorithms.matrix_factorization.SVD at 0x1ed7fcc6c48>"
      ]
     },
     "execution_count": 51,
     "metadata": {},
     "output_type": "execute_result"
    }
   ],
   "source": [
    "svd = SVD()\n",
    "svd.fit(trainset)"
   ]
  },
  {
   "cell_type": "code",
   "execution_count": 52,
   "id": "figured-object",
   "metadata": {},
   "outputs": [
    {
     "name": "stdout",
     "output_type": "stream",
     "text": [
      "RMSE: 4.7514\n"
     ]
    },
    {
     "data": {
      "text/plain": [
       "4.751395371949943"
      ]
     },
     "execution_count": 52,
     "metadata": {},
     "output_type": "execute_result"
    }
   ],
   "source": [
    "svd_pred = svd.test(testset)\n",
    "\n",
    "accuracy.rmse(svd_pred)"
   ]
  },
  {
   "cell_type": "markdown",
   "id": "pacific-python",
   "metadata": {},
   "source": [
    "Initial gridsearch"
   ]
  },
  {
   "cell_type": "code",
   "execution_count": 53,
   "id": "neural-somalia",
   "metadata": {},
   "outputs": [],
   "source": [
    "# param_grid = {'n_factors':[20, 100],'n_epochs': [5, 10], 'lr_all': [0.002, 0.005],\n",
    "#               'reg_all': [0.4, 0.6]}\n",
    "# gs_model = GridSearchCV(SVD, param_grid=param_grid, n_jobs = -1)\n",
    "# gs_model.fit(rec_data)\n",
    "#started 10:23am ended at 10:35"
   ]
  },
  {
   "cell_type": "code",
   "execution_count": 54,
   "id": "simplified-browser",
   "metadata": {},
   "outputs": [],
   "source": [
    "# gs_model.best_params\n",
    "\n",
    "#'rmse': {'n_factors': 20, 'n_epochs': 10, 'lr_all': 0.005, 'reg_all': 0.4},\n",
    "#  'mae': {'n_factors': 100, 'n_epochs': 10, 'lr_all': 0.005, 'reg_all': 0.6}"
   ]
  },
  {
   "cell_type": "code",
   "execution_count": 55,
   "id": "portuguese-portfolio",
   "metadata": {},
   "outputs": [
    {
     "data": {
      "text/plain": [
       "3524309    142168\n",
       "2230406    124740\n",
       "2238939    199398\n",
       "3453532    153079\n",
       "885257      30822\n",
       "            ...  \n",
       "2331735    164482\n",
       "1652913      8925\n",
       "4804719    163674\n",
       "1126881    164799\n",
       "1011980      5286\n",
       "Name: user_id, Length: 150000, dtype: int64"
      ]
     },
     "execution_count": 55,
     "metadata": {},
     "output_type": "execute_result"
    }
   ],
   "source": [
    "rec_df['user_id']"
   ]
  },
  {
   "cell_type": "code",
   "execution_count": 56,
   "id": "innovative-ecuador",
   "metadata": {},
   "outputs": [
    {
     "data": {
      "text/html": [
       "<div>\n",
       "<style scoped>\n",
       "    .dataframe tbody tr th:only-of-type {\n",
       "        vertical-align: middle;\n",
       "    }\n",
       "\n",
       "    .dataframe tbody tr th {\n",
       "        vertical-align: top;\n",
       "    }\n",
       "\n",
       "    .dataframe thead th {\n",
       "        text-align: right;\n",
       "    }\n",
       "</style>\n",
       "<table border=\"1\" class=\"dataframe\">\n",
       "  <thead>\n",
       "    <tr style=\"text-align: right;\">\n",
       "      <th></th>\n",
       "      <th>user_id</th>\n",
       "      <th>product_id</th>\n",
       "      <th>count</th>\n",
       "    </tr>\n",
       "  </thead>\n",
       "  <tbody>\n",
       "    <tr>\n",
       "      <th>1652860</th>\n",
       "      <td>8925</td>\n",
       "      <td>27104</td>\n",
       "      <td>6</td>\n",
       "    </tr>\n",
       "    <tr>\n",
       "      <th>1652913</th>\n",
       "      <td>8925</td>\n",
       "      <td>19048</td>\n",
       "      <td>1</td>\n",
       "    </tr>\n",
       "  </tbody>\n",
       "</table>\n",
       "</div>"
      ],
      "text/plain": [
       "         user_id  product_id  count\n",
       "1652860     8925       27104      6\n",
       "1652913     8925       19048      1"
      ]
     },
     "execution_count": 56,
     "metadata": {},
     "output_type": "execute_result"
    }
   ],
   "source": [
    "rec_df[rec_df['user_id'] == 8925]"
   ]
  },
  {
   "cell_type": "code",
   "execution_count": 57,
   "id": "passive-airplane",
   "metadata": {},
   "outputs": [
    {
     "name": "stdout",
     "output_type": "stream",
     "text": [
      "user: 8925       item: 27104      r_ui = 6.00   est = 3.63   {'was_impossible': False}\n"
     ]
    }
   ],
   "source": [
    "uid = 8925\n",
    "iid = 27104\n",
    "pred = svd.predict(uid,iid,r_ui = 6,verbose = True)"
   ]
  },
  {
   "cell_type": "code",
   "execution_count": 58,
   "id": "capital-optimization",
   "metadata": {},
   "outputs": [
    {
     "data": {
      "text/plain": [
       "(164720, 6873, 1.0)"
      ]
     },
     "execution_count": 58,
     "metadata": {},
     "output_type": "execute_result"
    }
   ],
   "source": [
    "testset[0]"
   ]
  },
  {
   "cell_type": "code",
   "execution_count": 59,
   "id": "encouraging-recall",
   "metadata": {},
   "outputs": [
    {
     "name": "stdout",
     "output_type": "stream",
     "text": [
      "user: 169473     item: 13176      r_ui = 1.00   est = 6.31   {'was_impossible': False}\n"
     ]
    }
   ],
   "source": [
    "pred = svd.predict(169473,13176,r_ui =1,verbose = True)"
   ]
  },
  {
   "cell_type": "code",
   "execution_count": 60,
   "id": "likely-scheduling",
   "metadata": {},
   "outputs": [
    {
     "name": "stdout",
     "output_type": "stream",
     "text": [
      "RMSE: 4.7610\n"
     ]
    },
    {
     "data": {
      "text/plain": [
       "4.7609530543320275"
      ]
     },
     "execution_count": 60,
     "metadata": {},
     "output_type": "execute_result"
    }
   ],
   "source": [
    "svd_best = SVD(n_factors=100, n_epochs = 10, lr_all = 0.005, reg_all = 0.6)\n",
    "svd_best.fit(trainset)\n",
    "svd_best_pred = svd_best.test(testset)\n",
    "\n",
    "accuracy.rmse(svd_best_pred)\n",
    "\n",
    "#n_factors': 100, 'n_epochs': 10, 'lr_all': 0.005, 'reg_all': 0.6"
   ]
  },
  {
   "cell_type": "code",
   "execution_count": 61,
   "id": "banner-bennett",
   "metadata": {},
   "outputs": [
    {
     "data": {
      "text/plain": [
       "(24674, 21386, 1.0)"
      ]
     },
     "execution_count": 61,
     "metadata": {},
     "output_type": "execute_result"
    }
   ],
   "source": [
    "testset[-1]"
   ]
  },
  {
   "cell_type": "code",
   "execution_count": 62,
   "id": "naked-murder",
   "metadata": {},
   "outputs": [
    {
     "name": "stdout",
     "output_type": "stream",
     "text": [
      "user: 179920     item: 24838      r_ui = 16.00   est = 5.47   {'was_impossible': False}\n"
     ]
    }
   ],
   "source": [
    "pred = svd.predict(179920, 24838, r_ui = 16.0,verbose = True)"
   ]
  },
  {
   "cell_type": "markdown",
   "id": "tribal-richardson",
   "metadata": {},
   "source": [
    "Looking at the above user, it shows that after a certain point the classifier heavily misclassifies the users with higher amounts of products \"ratings\" ie the amount they purchased. What we will do is assume that if they are getting anything more then 5 of them that they really like the product so we will be changing the 'rating' category to a 1 to 5 list. anything that is below a 5 is going to stay the same and anything that is a 5 or more will be changed to a straight 5 for the classifier"
   ]
  },
  {
   "cell_type": "code",
   "execution_count": 63,
   "id": "square-diagnosis",
   "metadata": {},
   "outputs": [],
   "source": [
    "rec_df['rating'] = rec_df['count'].apply(lambda x: 5 if (x>5) else x)"
   ]
  },
  {
   "cell_type": "code",
   "execution_count": 64,
   "id": "lesser-placement",
   "metadata": {},
   "outputs": [
    {
     "data": {
      "text/plain": [
       "(array([61816.,     0., 29059.,     0.,     0., 16658.,     0., 10329.,\n",
       "            0., 32138.]),\n",
       " array([1. , 1.4, 1.8, 2.2, 2.6, 3. , 3.4, 3.8, 4.2, 4.6, 5. ]),\n",
       " <BarContainer object of 10 artists>)"
      ]
     },
     "execution_count": 64,
     "metadata": {},
     "output_type": "execute_result"
    },
    {
     "data": {
      "image/png": "[encoded data removed]",
      "text/plain": [
       "<Figure size 432x288 with 1 Axes>"
      ]
     },
     "metadata": {
      "needs_background": "light"
     },
     "output_type": "display_data"
    }
   ],
   "source": [
    "plt.hist(rec_df['rating'])"
   ]
  },
  {
   "cell_type": "code",
   "execution_count": 65,
   "id": "amazing-campus",
   "metadata": {},
   "outputs": [],
   "source": [
    "new_rec_df = rec_df.drop('count',axis = 1)"
   ]
  },
  {
   "cell_type": "markdown",
   "id": "realistic-roulette",
   "metadata": {},
   "source": [
    "new reader"
   ]
  },
  {
   "cell_type": "code",
   "execution_count": 66,
   "id": "traditional-layer",
   "metadata": {},
   "outputs": [],
   "source": [
    "reader = Reader(rating_scale =(1,5))\n",
    "new_rec_data = Dataset.load_from_df(new_rec_df,reader)\n"
   ]
  },
  {
   "cell_type": "code",
   "execution_count": 67,
   "id": "straight-sharp",
   "metadata": {},
   "outputs": [],
   "source": [
    "new_trainset,new_testset = train_test_split(new_rec_data,test_size = .2,random_state = 123)"
   ]
  },
  {
   "cell_type": "code",
   "execution_count": 68,
   "id": "hungarian-production",
   "metadata": {},
   "outputs": [],
   "source": [
    "new_svd = SVD(n_factors = 100,n_epochs = 10,lr_all = .005,reg_all = .6)"
   ]
  },
  {
   "cell_type": "code",
   "execution_count": 69,
   "id": "clean-fitness",
   "metadata": {},
   "outputs": [],
   "source": [
    "new_svd.fit(new_trainset)\n",
    "new_pred = new_svd.test(new_testset)"
   ]
  },
  {
   "cell_type": "code",
   "execution_count": 70,
   "id": "dressed-blade",
   "metadata": {},
   "outputs": [
    {
     "name": "stdout",
     "output_type": "stream",
     "text": [
      "RMSE: 1.5484\n"
     ]
    },
    {
     "data": {
      "text/plain": [
       "1.5484396568230572"
      ]
     },
     "execution_count": 70,
     "metadata": {},
     "output_type": "execute_result"
    }
   ],
   "source": [
    "accuracy.rmse(new_pred)"
   ]
  },
  {
   "cell_type": "code",
   "execution_count": 71,
   "id": "lovely-folder",
   "metadata": {},
   "outputs": [
    {
     "data": {
      "text/plain": [
       "(164720, 6873, 1.0)"
      ]
     },
     "execution_count": 71,
     "metadata": {},
     "output_type": "execute_result"
    }
   ],
   "source": [
    "new_testset[0]"
   ]
  },
  {
   "cell_type": "code",
   "execution_count": 72,
   "id": "liquid-excellence",
   "metadata": {},
   "outputs": [
    {
     "data": {
      "text/html": [
       "<div>\n",
       "<style scoped>\n",
       "    .dataframe tbody tr th:only-of-type {\n",
       "        vertical-align: middle;\n",
       "    }\n",
       "\n",
       "    .dataframe tbody tr th {\n",
       "        vertical-align: top;\n",
       "    }\n",
       "\n",
       "    .dataframe thead th {\n",
       "        text-align: right;\n",
       "    }\n",
       "</style>\n",
       "<table border=\"1\" class=\"dataframe\">\n",
       "  <thead>\n",
       "    <tr style=\"text-align: right;\">\n",
       "      <th></th>\n",
       "      <th>user_id</th>\n",
       "      <th>product_id</th>\n",
       "      <th>rating</th>\n",
       "    </tr>\n",
       "  </thead>\n",
       "  <tbody>\n",
       "    <tr>\n",
       "      <th>2417864</th>\n",
       "      <td>164720</td>\n",
       "      <td>6873</td>\n",
       "      <td>1</td>\n",
       "    </tr>\n",
       "    <tr>\n",
       "      <th>2417867</th>\n",
       "      <td>164720</td>\n",
       "      <td>19678</td>\n",
       "      <td>1</td>\n",
       "    </tr>\n",
       "  </tbody>\n",
       "</table>\n",
       "</div>"
      ],
      "text/plain": [
       "         user_id  product_id  rating\n",
       "2417864   164720        6873       1\n",
       "2417867   164720       19678       1"
      ]
     },
     "execution_count": 72,
     "metadata": {},
     "output_type": "execute_result"
    }
   ],
   "source": [
    "new_rec_df[new_rec_df['user_id'] ==164720 ]"
   ]
  },
  {
   "cell_type": "code",
   "execution_count": 73,
   "id": "conditional-security",
   "metadata": {},
   "outputs": [
    {
     "name": "stdout",
     "output_type": "stream",
     "text": [
      "user: 164720     item: 6873       r_ui = 1.00   est = 2.66   {'was_impossible': False}\n"
     ]
    }
   ],
   "source": [
    "uid = 164720\n",
    "iid = 6873\n",
    "pred = new_svd.predict(uid,iid,r_ui = 1,verbose = True)"
   ]
  },
  {
   "cell_type": "code",
   "execution_count": 74,
   "id": "joined-monitoring",
   "metadata": {},
   "outputs": [
    {
     "data": {
      "text/plain": [
       "(21837, 16291, 5.0)"
      ]
     },
     "execution_count": 74,
     "metadata": {},
     "output_type": "execute_result"
    }
   ],
   "source": [
    "new_testset[1]"
   ]
  },
  {
   "cell_type": "code",
   "execution_count": 75,
   "id": "normal-laser",
   "metadata": {},
   "outputs": [
    {
     "data": {
      "text/html": [
       "<div>\n",
       "<style scoped>\n",
       "    .dataframe tbody tr th:only-of-type {\n",
       "        vertical-align: middle;\n",
       "    }\n",
       "\n",
       "    .dataframe tbody tr th {\n",
       "        vertical-align: top;\n",
       "    }\n",
       "\n",
       "    .dataframe thead th {\n",
       "        text-align: right;\n",
       "    }\n",
       "</style>\n",
       "<table border=\"1\" class=\"dataframe\">\n",
       "  <thead>\n",
       "    <tr style=\"text-align: right;\">\n",
       "      <th></th>\n",
       "      <th>user_id</th>\n",
       "      <th>product_id</th>\n",
       "      <th>rating</th>\n",
       "    </tr>\n",
       "  </thead>\n",
       "  <tbody>\n",
       "    <tr>\n",
       "      <th>3670601</th>\n",
       "      <td>21837</td>\n",
       "      <td>16291</td>\n",
       "      <td>5</td>\n",
       "    </tr>\n",
       "  </tbody>\n",
       "</table>\n",
       "</div>"
      ],
      "text/plain": [
       "         user_id  product_id  rating\n",
       "3670601    21837       16291       5"
      ]
     },
     "execution_count": 75,
     "metadata": {},
     "output_type": "execute_result"
    }
   ],
   "source": [
    "new_rec_df[new_rec_df['user_id'] == 21837]"
   ]
  },
  {
   "cell_type": "code",
   "execution_count": 76,
   "id": "attached-standard",
   "metadata": {},
   "outputs": [
    {
     "name": "stdout",
     "output_type": "stream",
     "text": [
      "user: 21837      item: 16291      r_ui = 5.00   est = 2.53   {'was_impossible': False}\n"
     ]
    }
   ],
   "source": [
    "uid = 21837\n",
    "iid = 16291\n",
    "pred = new_svd.predict(uid,iid,r_ui = 5,verbose = True)"
   ]
  },
  {
   "cell_type": "code",
   "execution_count": null,
   "id": "tender-expansion",
   "metadata": {},
   "outputs": [],
   "source": []
  },
  {
   "cell_type": "markdown",
   "id": "referenced-conjunction",
   "metadata": {},
   "source": [
    "Based off the new user SVD model parameters it looks like the rough estimated values of the rmse is correct and roughly around a 1.54 error. which is what we would expect"
   ]
  },
  {
   "cell_type": "code",
   "execution_count": null,
   "id": "mobile-julian",
   "metadata": {},
   "outputs": [],
   "source": []
  },
  {
   "cell_type": "code",
   "execution_count": null,
   "id": "consolidated-graduation",
   "metadata": {},
   "outputs": [],
   "source": [
    "from collections import defaultdict\n",
    "\n",
    "def get_top_n(predictions,n = 10):\n",
    "    top_n = defaultdict(list)\n",
    "    #map the predictions to each user\n",
    "    for uid,iid,true_r,est, _ in predictions:\n",
    "        top_n[uid].append((iid,est))\n",
    "    # Then sort the predictions for each user and retrieve the k highest ones\n",
    "    for uid,user_ratings in top_n.items():\n",
    "        user_ratings.sort( key = lambda x:x[1],reverse =True)\n",
    "        top_n[uid] = user_ratings[:n]\n",
    "    return top_n"
   ]
  },
  {
   "cell_type": "code",
   "execution_count": null,
   "id": "constitutional-diamond",
   "metadata": {},
   "outputs": [],
   "source": [
    "top_n = get_top_n(new_svd_best_predictions,n = 10)"
   ]
  },
  {
   "cell_type": "code",
   "execution_count": null,
   "id": "surprising-single",
   "metadata": {},
   "outputs": [],
   "source": [
    "def grocery_rater(df, num, aisle=None):\n",
    "    userID = 300000\n",
    "    rating_list = []\n",
    "    while num > 0:\n",
    "        if aisle:\n",
    "            product = df[df['aisle'].str.contains(aisle)].sample(1)\n",
    "        else:\n",
    "            product = df.sample(1)\n",
    "        print('\\n', product['product_name'].iloc[0])\n",
    "        rating = input('How do you rate this product on a scale of 1-5, choose 0 to rate a different product:\\n')\n",
    "        if rating == '0':\n",
    "            continue\n",
    "        else:\n",
    "            rating_one_product = {'user_id':userID,'product_id':product['product_id'].iloc[0],'rating':int(rating)}\n",
    "            rating_list.append(rating_one_product) \n",
    "            num -= 1\n",
    "    return rating_list"
   ]
  },
  {
   "cell_type": "code",
   "execution_count": null,
   "id": "collaborative-february",
   "metadata": {},
   "outputs": [],
   "source": [
    "df = pd.merge(products,aisles, on = 'aisle_id',how = 'left')\n",
    "products_desc = pd.merge(df,departments,on = 'department_id',how = 'left')\n"
   ]
  },
  {
   "cell_type": "code",
   "execution_count": null,
   "id": "destroyed-chicken",
   "metadata": {},
   "outputs": [],
   "source": [
    "user_rating = grocery_rater(products_desc, 4, aisle='candy')"
   ]
  },
  {
   "cell_type": "code",
   "execution_count": null,
   "id": "computational-slide",
   "metadata": {},
   "outputs": [],
   "source": [
    "short_head = list(new_rec_df.product_id.value_counts()[:6207].cumsum().index)"
   ]
  },
  {
   "cell_type": "code",
   "execution_count": null,
   "id": "infinite-possession",
   "metadata": {},
   "outputs": [],
   "source": [
    "new_ratings_df = new_rec_df.append(user_rating, ignore_index=True)\n",
    "new_data = Dataset.load_from_df(new_ratings_df, reader)"
   ]
  },
  {
   "cell_type": "code",
   "execution_count": null,
   "id": "little-creature",
   "metadata": {},
   "outputs": [],
   "source": [
    "new_user_svd = SVD(n_factors = 20, n_epochs = 10, lr_all = 0.005, reg_all = 0.4)\n",
    "new_user_svd.fit(new_data.build_full_trainset())"
   ]
  },
  {
   "cell_type": "code",
   "execution_count": null,
   "id": "tough-number",
   "metadata": {},
   "outputs": [],
   "source": [
    "list_of_products = []\n",
    "for product in new_ratings_df['product_id'].unique():\n",
    "    product_name = products_desc[products_desc['product_id'] == product]['product_name'].iloc[0]\n",
    "    product_aisle = products_desc[products_desc['product_id'] == product]['aisle'].iloc[0]\n",
    "    list_of_products.append((product, new_user_svd.predict(300000, product)[3], product_name, product_aisle))"
   ]
  },
  {
   "cell_type": "code",
   "execution_count": null,
   "id": "designing-german",
   "metadata": {},
   "outputs": [],
   "source": [
    "ranked_products = sorted(list_of_products, key=lambda x:x[1], reverse=True)"
   ]
  },
  {
   "cell_type": "code",
   "execution_count": null,
   "id": "american-initial",
   "metadata": {},
   "outputs": [],
   "source": [
    "def recommended_products(ranked_products, n, aisle=None):\n",
    "    for idx, rec in enumerate(ranked_products):\n",
    "        if aisle:    \n",
    "            if aisle in rec[3]: \n",
    "                name = rec[2]\n",
    "                print('Recommendation # ', idx+1, ': ', name, '\\n')\n",
    "                n-= 1\n",
    "            elif idx == len(ranked_products)-1:\n",
    "                print('No recommended products found')\n",
    "                continue\n",
    "        else:\n",
    "            name = rec[2]\n",
    "            print('Recommendation # ', idx+1, ': ', name, '\\n')\n",
    "            n-= 1\n",
    "        if n == 0:\n",
    "            break"
   ]
  },
  {
   "cell_type": "code",
   "execution_count": null,
   "id": "noticed-computer",
   "metadata": {},
   "outputs": [],
   "source": [
    "def recommend_diverse_products(ranked_products, n, aisle=None, percent_diverse=.20):\n",
    "    \n",
    "    num_diverse = round(n * percent_diverse)\n",
    "    recs = []\n",
    "    \n",
    "    if n < 1:\n",
    "        print('Number of recommended products must be 1 or more')\n",
    "        return recs\n",
    "    \n",
    "    for idx, rec in enumerate(ranked_products):\n",
    "        \n",
    "        if n == 0:\n",
    "            return recs\n",
    "            \n",
    "        prod_id, rating, prod_name, aisle_name = [*rec]\n",
    "        \n",
    "               \n",
    "        if aisle:                                    # Did we specify an aisle? \n",
    "            if aisle in aisle_name:                  # Is it in the aisle we want?\n",
    "                if n > num_diverse:                  # Are we looking for a long tail product? No\n",
    "                    name = prod_name\n",
    "                    print('Recommendation # ', idx+1, ': ', name, '\\n')\n",
    "                    recs.append(rec)\n",
    "                    n-= 1\n",
    "                else:                                 # Are we looking for a long tail product? Yes\n",
    "                    if prod_id not in short_head:     # Is it NOT in the short_head list?\n",
    "                        name = prod_name\n",
    "                        print('Recommendation # ', idx+1, ': ', name, '\\n')\n",
    "                        recs.append(rec)\n",
    "                        n-= 1\n",
    "                    else:\n",
    "                        continue\n",
    "            elif idx == len(ranked_products)-1:\n",
    "                print('No recommended products found')\n",
    "                continue\n",
    "        else:\n",
    "            if n > num_diverse:                  # Are we looking for a long tail product? No\n",
    "                name = prod_name\n",
    "                print('Recommendation # ', idx+1, ': ', name, '\\n')\n",
    "                recs.append(rec)\n",
    "                n-= 1\n",
    "            else:                                 # Are we looking for a long tail product? Yes\n",
    "                if prod_id not in short_head:     # Is it NOT in the short_head list?\n",
    "                    name = prod_name\n",
    "                    print('Recommendation # ', idx+1, ': ', name, '\\n')\n",
    "                    recs.append(rec)\n",
    "                    n-= 1\n",
    "                else:\n",
    "                    continue"
   ]
  },
  {
   "cell_type": "code",
   "execution_count": null,
   "id": "coordinate-absolute",
   "metadata": {},
   "outputs": [],
   "source": [
    "def generate_new_user_recommendations(new_rec_df, products_desc, n_to_rate, n_to_rec, percent_diverse, \n",
    "                                      rate_aisle=None, rec_aisle=None):\n",
    "    \n",
    "    # Get user ratings\n",
    "    user_rating = grocery_rater(products_desc, n_to_rate, aisle=rate_aisle)\n",
    "    \n",
    "    ## add the new ratings to the original ratings DataFrame\n",
    "    print('Creating ratings dataset...')\n",
    "    new_ratings_df = new_rec_df.append(user_rating, ignore_index=True)\n",
    "    new_data = Dataset.load_from_df(new_ratings_df, reader)\n",
    "    \n",
    "    # train a model using the new combined DataFrame\n",
    "    print('Training recommendation model...')\n",
    "    new_user_svd = SVD(n_factors = 20, n_epochs = 10, lr_all = 0.005, reg_all = 0.4)\n",
    "    new_user_svd.fit(new_data.build_full_trainset())\n",
    "    \n",
    "    # make predictions for the user\n",
    "    print('Making predictions...')\n",
    "    list_of_products = []\n",
    "    for product in new_ratings_df['product_id'].unique():\n",
    "        product_name = products_desc[products_desc['product_id'] == product]['product_name'].iloc[0]\n",
    "        product_aisle = products_desc[products_desc['product_id'] == product]['aisle'].iloc[0]\n",
    "        list_of_products.append((product, new_user_svd.predict(300000, product)[3], product_name, product_aisle))\n",
    "    \n",
    "    # order the predictions from highest to lowest rated\n",
    "    ranked_products = sorted(list_of_products, key=lambda x:x[1], reverse=True)\n",
    "    \n",
    "    # return the top n recommendation\n",
    "    return recommend_diverse_products(ranked_products, n_to_rec, aisle=rec_aisle, percent_diverse=percent_diverse)"
   ]
  },
  {
   "cell_type": "code",
   "execution_count": null,
   "id": "historic-humidity",
   "metadata": {},
   "outputs": [],
   "source": [
    "recs = recommend_diverse_products(ranked_products, 10, percent_diverse=1)"
   ]
  },
  {
   "cell_type": "code",
   "execution_count": null,
   "id": "liberal-medium",
   "metadata": {},
   "outputs": [],
   "source": [
    "recs"
   ]
  },
  {
   "cell_type": "code",
   "execution_count": null,
   "id": "organized-hepatitis",
   "metadata": {},
   "outputs": [],
   "source": [
    "generate_new_user_recommendations(new_rec_df, products_desc, n_to_rate=5, n_to_rec=6, \n",
    "                                  percent_diverse=1, rate_aisle='meat', rec_aisle=None)"
   ]
  },
  {
   "cell_type": "markdown",
   "id": "dense-sport",
   "metadata": {},
   "source": [
    "# Interpret results:\n",
    "\n",
    "    \n",
    "    "
   ]
  },
  {
   "cell_type": "markdown",
   "id": "quality-little",
   "metadata": {},
   "source": [
    "Results:\n",
    "- Clustering data is great for market segmentation and target marketing.\n",
    "- The SVD Model did great after we lowered the scale down to 1-5 compaired to the 1-100\n",
    "- Popularity skewed the data a bit but we fixed it by rerunning the recommendations after getting more knowledge of the user.\n",
    "\n",
    "Next-steps/ Future Work:\n",
    "- Go back and recluster to see if we can get better results by upping the number of clusters there are and make the bigger clusters smaller\n",
    "- Generate keywords on the items to create and operate a search function by products.\n",
    "- Create an external database to offload the data from local machine to make the program run faster and operate the application better and recommend on the full dataset. As stated above computational power for application\n",
    "- Impliment an efficient-apriori algorithm to find and create associations with certain items like bread,eggs usually go with bacon"
   ]
  },
  {
   "cell_type": "code",
   "execution_count": null,
   "id": "electoral-toddler",
   "metadata": {},
   "outputs": [],
   "source": []
  },
  {
   "cell_type": "code",
   "execution_count": null,
   "id": "stretch-anderson",
   "metadata": {},
   "outputs": [],
   "source": []
  }
 ],
 "metadata": {
  "kernelspec": {
   "display_name": "Python 3",
   "language": "python",
   "name": "python3"
  },
  "language_info": {
   "codemirror_mode": {
    "name": "ipython",
    "version": 3
   },
   "file_extension": ".py",
   "mimetype": "text/x-python",
   "name": "python",
   "nbconvert_exporter": "python",
   "pygments_lexer": "ipython3",
   "version": "3.7.9"
  },
  "toc": {
   "base_numbering": 1,
   "nav_menu": {},
   "number_sections": true,
   "sideBar": true,
   "skip_h1_title": false,
   "title_cell": "Table of Contents",
   "title_sidebar": "Contents",
   "toc_cell": false,
   "toc_position": {},
   "toc_section_display": true,
   "toc_window_display": false
  }
 },
 "nbformat": 4,
 "nbformat_minor": 5
}
